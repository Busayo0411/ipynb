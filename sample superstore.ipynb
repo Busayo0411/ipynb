{
 "cells": [
  {
   "cell_type": "markdown",
   "id": "cacea861-a600-4b59-8494-a1b27ebffe70",
   "metadata": {},
   "source": [
    "# Introduction\n",
    "### This dataset is a raw dataset, it contains information on Sales,State,Category,Postal Code,etc. It comprises of 9994 rows and 13 columns representing various aspect of the data.  To carryout data analysis i will be importing a library to aid me in my work."
   ]
  },
  {
   "cell_type": "code",
   "execution_count": 2,
   "id": "28ba9968-1e1b-4653-a216-9809c14f15ae",
   "metadata": {
    "tags": []
   },
   "outputs": [],
   "source": [
    "import numpy as np\n",
    "import pandas as pd\n",
    "import matplotlib.pyplot as plt"
   ]
  },
  {
   "cell_type": "markdown",
   "id": "ab6f765a-c0d4-4931-a2f8-204ecabda760",
   "metadata": {},
   "source": [
    "## The name of the file i will be working with is \"SampleSuperStore.csv\". This is to load dataset."
   ]
  },
  {
   "cell_type": "code",
   "execution_count": 3,
   "id": "9779aa2b-9a6c-4720-8a5c-a9d63a71903e",
   "metadata": {
    "tags": []
   },
   "outputs": [],
   "source": [
    "df=pd.read_csv(r\"C:\\Users\\USER\\Desktop\\SampleSuperstore.csv\")"
   ]
  },
  {
   "cell_type": "code",
   "execution_count": 4,
   "id": "664f9df5-7034-431a-91d5-64284897a9f3",
   "metadata": {
    "tags": []
   },
   "outputs": [
    {
     "data": {
      "text/html": [
       "<div>\n",
       "<style scoped>\n",
       "    .dataframe tbody tr th:only-of-type {\n",
       "        vertical-align: middle;\n",
       "    }\n",
       "\n",
       "    .dataframe tbody tr th {\n",
       "        vertical-align: top;\n",
       "    }\n",
       "\n",
       "    .dataframe thead th {\n",
       "        text-align: right;\n",
       "    }\n",
       "</style>\n",
       "<table border=\"1\" class=\"dataframe\">\n",
       "  <thead>\n",
       "    <tr style=\"text-align: right;\">\n",
       "      <th></th>\n",
       "      <th>Ship Mode</th>\n",
       "      <th>Segment</th>\n",
       "      <th>Country</th>\n",
       "      <th>City</th>\n",
       "      <th>State</th>\n",
       "      <th>Postal Code</th>\n",
       "      <th>Region</th>\n",
       "      <th>Category</th>\n",
       "      <th>Sub-Category</th>\n",
       "      <th>Sales</th>\n",
       "      <th>Quantity</th>\n",
       "      <th>Discount</th>\n",
       "      <th>Profit</th>\n",
       "    </tr>\n",
       "  </thead>\n",
       "  <tbody>\n",
       "    <tr>\n",
       "      <th>0</th>\n",
       "      <td>Second Class</td>\n",
       "      <td>Consumer</td>\n",
       "      <td>United States</td>\n",
       "      <td>Henderson</td>\n",
       "      <td>Kentucky</td>\n",
       "      <td>42420</td>\n",
       "      <td>South</td>\n",
       "      <td>Furniture</td>\n",
       "      <td>Bookcases</td>\n",
       "      <td>261.9600</td>\n",
       "      <td>2</td>\n",
       "      <td>0.00</td>\n",
       "      <td>41.9136</td>\n",
       "    </tr>\n",
       "    <tr>\n",
       "      <th>1</th>\n",
       "      <td>Second Class</td>\n",
       "      <td>Consumer</td>\n",
       "      <td>United States</td>\n",
       "      <td>Henderson</td>\n",
       "      <td>Kentucky</td>\n",
       "      <td>42420</td>\n",
       "      <td>South</td>\n",
       "      <td>Furniture</td>\n",
       "      <td>Chairs</td>\n",
       "      <td>731.9400</td>\n",
       "      <td>3</td>\n",
       "      <td>0.00</td>\n",
       "      <td>219.5820</td>\n",
       "    </tr>\n",
       "    <tr>\n",
       "      <th>2</th>\n",
       "      <td>Second Class</td>\n",
       "      <td>Corporate</td>\n",
       "      <td>United States</td>\n",
       "      <td>Los Angeles</td>\n",
       "      <td>California</td>\n",
       "      <td>90036</td>\n",
       "      <td>West</td>\n",
       "      <td>Office Supplies</td>\n",
       "      <td>Labels</td>\n",
       "      <td>14.6200</td>\n",
       "      <td>2</td>\n",
       "      <td>0.00</td>\n",
       "      <td>6.8714</td>\n",
       "    </tr>\n",
       "    <tr>\n",
       "      <th>3</th>\n",
       "      <td>Standard Class</td>\n",
       "      <td>Consumer</td>\n",
       "      <td>United States</td>\n",
       "      <td>Fort Lauderdale</td>\n",
       "      <td>Florida</td>\n",
       "      <td>33311</td>\n",
       "      <td>South</td>\n",
       "      <td>Furniture</td>\n",
       "      <td>Tables</td>\n",
       "      <td>957.5775</td>\n",
       "      <td>5</td>\n",
       "      <td>0.45</td>\n",
       "      <td>-383.0310</td>\n",
       "    </tr>\n",
       "    <tr>\n",
       "      <th>4</th>\n",
       "      <td>Standard Class</td>\n",
       "      <td>Consumer</td>\n",
       "      <td>United States</td>\n",
       "      <td>Fort Lauderdale</td>\n",
       "      <td>Florida</td>\n",
       "      <td>33311</td>\n",
       "      <td>South</td>\n",
       "      <td>Office Supplies</td>\n",
       "      <td>Storage</td>\n",
       "      <td>22.3680</td>\n",
       "      <td>2</td>\n",
       "      <td>0.20</td>\n",
       "      <td>2.5164</td>\n",
       "    </tr>\n",
       "    <tr>\n",
       "      <th>...</th>\n",
       "      <td>...</td>\n",
       "      <td>...</td>\n",
       "      <td>...</td>\n",
       "      <td>...</td>\n",
       "      <td>...</td>\n",
       "      <td>...</td>\n",
       "      <td>...</td>\n",
       "      <td>...</td>\n",
       "      <td>...</td>\n",
       "      <td>...</td>\n",
       "      <td>...</td>\n",
       "      <td>...</td>\n",
       "      <td>...</td>\n",
       "    </tr>\n",
       "    <tr>\n",
       "      <th>9989</th>\n",
       "      <td>Second Class</td>\n",
       "      <td>Consumer</td>\n",
       "      <td>United States</td>\n",
       "      <td>Miami</td>\n",
       "      <td>Florida</td>\n",
       "      <td>33180</td>\n",
       "      <td>South</td>\n",
       "      <td>Furniture</td>\n",
       "      <td>Furnishings</td>\n",
       "      <td>25.2480</td>\n",
       "      <td>3</td>\n",
       "      <td>0.20</td>\n",
       "      <td>4.1028</td>\n",
       "    </tr>\n",
       "    <tr>\n",
       "      <th>9990</th>\n",
       "      <td>Standard Class</td>\n",
       "      <td>Consumer</td>\n",
       "      <td>United States</td>\n",
       "      <td>Costa Mesa</td>\n",
       "      <td>California</td>\n",
       "      <td>92627</td>\n",
       "      <td>West</td>\n",
       "      <td>Furniture</td>\n",
       "      <td>Furnishings</td>\n",
       "      <td>91.9600</td>\n",
       "      <td>2</td>\n",
       "      <td>0.00</td>\n",
       "      <td>15.6332</td>\n",
       "    </tr>\n",
       "    <tr>\n",
       "      <th>9991</th>\n",
       "      <td>Standard Class</td>\n",
       "      <td>Consumer</td>\n",
       "      <td>United States</td>\n",
       "      <td>Costa Mesa</td>\n",
       "      <td>California</td>\n",
       "      <td>92627</td>\n",
       "      <td>West</td>\n",
       "      <td>Technology</td>\n",
       "      <td>Phones</td>\n",
       "      <td>258.5760</td>\n",
       "      <td>2</td>\n",
       "      <td>0.20</td>\n",
       "      <td>19.3932</td>\n",
       "    </tr>\n",
       "    <tr>\n",
       "      <th>9992</th>\n",
       "      <td>Standard Class</td>\n",
       "      <td>Consumer</td>\n",
       "      <td>United States</td>\n",
       "      <td>Costa Mesa</td>\n",
       "      <td>California</td>\n",
       "      <td>92627</td>\n",
       "      <td>West</td>\n",
       "      <td>Office Supplies</td>\n",
       "      <td>Paper</td>\n",
       "      <td>29.6000</td>\n",
       "      <td>4</td>\n",
       "      <td>0.00</td>\n",
       "      <td>13.3200</td>\n",
       "    </tr>\n",
       "    <tr>\n",
       "      <th>9993</th>\n",
       "      <td>Second Class</td>\n",
       "      <td>Consumer</td>\n",
       "      <td>United States</td>\n",
       "      <td>Westminster</td>\n",
       "      <td>California</td>\n",
       "      <td>92683</td>\n",
       "      <td>West</td>\n",
       "      <td>Office Supplies</td>\n",
       "      <td>Appliances</td>\n",
       "      <td>243.1600</td>\n",
       "      <td>2</td>\n",
       "      <td>0.00</td>\n",
       "      <td>72.9480</td>\n",
       "    </tr>\n",
       "  </tbody>\n",
       "</table>\n",
       "<p>9994 rows × 13 columns</p>\n",
       "</div>"
      ],
      "text/plain": [
       "           Ship Mode    Segment        Country             City       State  \\\n",
       "0       Second Class   Consumer  United States        Henderson    Kentucky   \n",
       "1       Second Class   Consumer  United States        Henderson    Kentucky   \n",
       "2       Second Class  Corporate  United States      Los Angeles  California   \n",
       "3     Standard Class   Consumer  United States  Fort Lauderdale     Florida   \n",
       "4     Standard Class   Consumer  United States  Fort Lauderdale     Florida   \n",
       "...              ...        ...            ...              ...         ...   \n",
       "9989    Second Class   Consumer  United States            Miami     Florida   \n",
       "9990  Standard Class   Consumer  United States       Costa Mesa  California   \n",
       "9991  Standard Class   Consumer  United States       Costa Mesa  California   \n",
       "9992  Standard Class   Consumer  United States       Costa Mesa  California   \n",
       "9993    Second Class   Consumer  United States      Westminster  California   \n",
       "\n",
       "      Postal Code Region         Category Sub-Category     Sales  Quantity  \\\n",
       "0           42420  South        Furniture    Bookcases  261.9600         2   \n",
       "1           42420  South        Furniture       Chairs  731.9400         3   \n",
       "2           90036   West  Office Supplies       Labels   14.6200         2   \n",
       "3           33311  South        Furniture       Tables  957.5775         5   \n",
       "4           33311  South  Office Supplies      Storage   22.3680         2   \n",
       "...           ...    ...              ...          ...       ...       ...   \n",
       "9989        33180  South        Furniture  Furnishings   25.2480         3   \n",
       "9990        92627   West        Furniture  Furnishings   91.9600         2   \n",
       "9991        92627   West       Technology       Phones  258.5760         2   \n",
       "9992        92627   West  Office Supplies        Paper   29.6000         4   \n",
       "9993        92683   West  Office Supplies   Appliances  243.1600         2   \n",
       "\n",
       "      Discount    Profit  \n",
       "0         0.00   41.9136  \n",
       "1         0.00  219.5820  \n",
       "2         0.00    6.8714  \n",
       "3         0.45 -383.0310  \n",
       "4         0.20    2.5164  \n",
       "...        ...       ...  \n",
       "9989      0.20    4.1028  \n",
       "9990      0.00   15.6332  \n",
       "9991      0.20   19.3932  \n",
       "9992      0.00   13.3200  \n",
       "9993      0.00   72.9480  \n",
       "\n",
       "[9994 rows x 13 columns]"
      ]
     },
     "execution_count": 4,
     "metadata": {},
     "output_type": "execute_result"
    }
   ],
   "source": [
    "df"
   ]
  },
  {
   "cell_type": "markdown",
   "id": "ab4d1b37-fab8-4367-9d35-c84854ddc4ce",
   "metadata": {},
   "source": [
    "# Here are some Analysis on my dataset."
   ]
  },
  {
   "cell_type": "markdown",
   "id": "ac7b4128-3e40-419e-b13d-4e79860f5e7e",
   "metadata": {},
   "source": [
    "### 1. Sales by Ship Mode: "
   ]
  },
  {
   "cell_type": "markdown",
   "id": "327929d2-a5f2-4154-a9f4-664349bd00ab",
   "metadata": {},
   "source": [
    "### This is to figure out the sales of each ship mode."
   ]
  },
  {
   "cell_type": "markdown",
   "id": "13aecbdf-78ca-4709-b69b-8c202ab8e76e",
   "metadata": {},
   "source": [
    "#### How do sales vary by different ship modes?"
   ]
  },
  {
   "cell_type": "code",
   "execution_count": 5,
   "id": "15278913-1073-44e2-a4bb-955dbebcfa16",
   "metadata": {
    "tags": []
   },
   "outputs": [
    {
     "name": "stdout",
     "output_type": "stream",
     "text": [
      "        Ship Mode         Sales\n",
      "0     First Class  3.514284e+05\n",
      "1        Same Day  1.283631e+05\n",
      "2    Second Class  4.591936e+05\n",
      "3  Standard Class  1.358216e+06\n"
     ]
    }
   ],
   "source": [
    "sales_by_ship_mode = df.groupby('Ship Mode')['Sales'].sum().reset_index()\n",
    "print(sales_by_ship_mode)"
   ]
  },
  {
   "cell_type": "markdown",
   "id": "56de17f6-4cd3-4c48-ba65-9c7a1ed05d7b",
   "metadata": {},
   "source": [
    "### This is to find the ship mode that sells the most."
   ]
  },
  {
   "cell_type": "markdown",
   "id": "01308067-b9e8-4760-8c54-e6c62e292a11",
   "metadata": {},
   "source": [
    "#### Which ship mode generates the highest sales?"
   ]
  },
  {
   "cell_type": "code",
   "execution_count": 6,
   "id": "1063e80a-7d6d-445c-bf16-fa617a29aa35",
   "metadata": {
    "tags": []
   },
   "outputs": [
    {
     "name": "stdout",
     "output_type": "stream",
     "text": [
      "Ship Mode with Highest Sales:\n",
      "Ship Mode    Standard Class\n",
      "Sales           1358215.743\n",
      "Name: 3, dtype: object\n"
     ]
    }
   ],
   "source": [
    "highest_sales_mode = sales_by_ship_mode.loc[sales_by_ship_mode['Sales'].idxmax()]\n",
    "print(\"Ship Mode with Highest Sales:\")\n",
    "print(highest_sales_mode)\n"
   ]
  },
  {
   "cell_type": "markdown",
   "id": "a2c6849d-3afa-42db-9a62-1df960e1a4b2",
   "metadata": {},
   "source": [
    "### 2. Segment Performance:"
   ]
  },
  {
   "cell_type": "markdown",
   "id": "6178c8e6-f121-497c-bd9a-a61440348c9c",
   "metadata": {},
   "source": [
    "### This shows the customer segment that is most profitable, which in this case is the Profit segment."
   ]
  },
  {
   "cell_type": "markdown",
   "id": "a94a51c8-5276-477f-866c-6da9a3477a6d",
   "metadata": {},
   "source": [
    "#### Which customer segment(Consumer,Corporate,Home Office) is the most profitable?"
   ]
  },
  {
   "cell_type": "code",
   "execution_count": 7,
   "id": "3c42917a-7ad5-4493-bd59-d39e45112f06",
   "metadata": {
    "tags": []
   },
   "outputs": [
    {
     "name": "stdout",
     "output_type": "stream",
     "text": [
      "Most Profitable Segment:\n",
      "Segment       Consumer\n",
      "Profit     134119.2092\n",
      "Name: 0, dtype: object\n"
     ]
    }
   ],
   "source": [
    "profit_by_segment = df.groupby('Segment')['Profit'].sum().reset_index()\n",
    "most_profitable_segment = profit_by_segment.loc[profit_by_segment['Profit'].idxmax()]\n",
    "print(\"Most Profitable Segment:\")\n",
    "print(most_profitable_segment)"
   ]
  },
  {
   "cell_type": "markdown",
   "id": "f10b3d96-116e-448c-95fe-578f9f618313",
   "metadata": {},
   "source": [
    "### 3. Regional Sales Distribution:"
   ]
  },
  {
   "cell_type": "markdown",
   "id": "c6de8549-3c31-429f-8542-fd9a9f35f22b",
   "metadata": {},
   "source": [
    "### This is the distribution of sales across different regions."
   ]
  },
  {
   "cell_type": "markdown",
   "id": "ef9b35a0-72e4-4be0-bf98-50f37d7a299e",
   "metadata": {},
   "source": [
    "#### How are sales distributed across different regions?"
   ]
  },
  {
   "cell_type": "code",
   "execution_count": 8,
   "id": "d19d8526-82eb-4616-bb1c-abd014bfe41e",
   "metadata": {
    "tags": []
   },
   "outputs": [
    {
     "name": "stdout",
     "output_type": "stream",
     "text": [
      "Sales Distribution Across Different Regions:\n",
      "    Region        Sales\n",
      "0  Central  501239.8908\n",
      "1     East  678781.2400\n",
      "2    South  391721.9050\n",
      "3     West  725457.8245\n"
     ]
    }
   ],
   "source": [
    "sales_by_region = df.groupby('Region')['Sales'].sum().reset_index()\n",
    "print(\"Sales Distribution Across Different Regions:\")\n",
    "print(sales_by_region)"
   ]
  },
  {
   "cell_type": "markdown",
   "id": "d5ac266c-0896-4f24-b7d1-ea061b9e0d3b",
   "metadata": {},
   "source": [
    "### 4. State-wise Analysis:"
   ]
  },
  {
   "cell_type": "markdown",
   "id": "11e7829d-9304-4176-888a-1bffcb20b5a5",
   "metadata": {},
   "source": [
    "### This is the states that has the highest and lowest sales"
   ]
  },
  {
   "cell_type": "markdown",
   "id": "e33ea4d3-5932-4b8c-a802-02e2427dbd8e",
   "metadata": {},
   "source": [
    "#### Which states have the highest and lowest total sales?"
   ]
  },
  {
   "cell_type": "code",
   "execution_count": 9,
   "id": "7aba577c-7f85-4b5b-8344-9cdedb49f60a",
   "metadata": {
    "tags": []
   },
   "outputs": [
    {
     "name": "stdout",
     "output_type": "stream",
     "text": [
      "State with the Highest Total Sales:\n",
      "State     California\n",
      "Sales    457687.6315\n",
      "Name: 3, dtype: object\n",
      "\n",
      "State with the Lowest Total Sales:\n",
      "State    North Dakota\n",
      "Sales          919.91\n",
      "Name: 32, dtype: object\n"
     ]
    }
   ],
   "source": [
    "sales_by_state = df.groupby('State')['Sales'].sum().reset_index()\n",
    "highest_sales_state = sales_by_state.loc[sales_by_state['Sales'].idxmax()]\n",
    "lowest_sales_state = sales_by_state.loc[sales_by_state['Sales'].idxmin()]\n",
    "print(\"State with the Highest Total Sales:\")\n",
    "print(highest_sales_state)\n",
    "print(\"\\nState with the Lowest Total Sales:\")\n",
    "print(lowest_sales_state)"
   ]
  },
  {
   "cell_type": "markdown",
   "id": "d830e742-1bad-4940-b964-cf193b600c8b",
   "metadata": {},
   "source": [
    "### This is the states with high profits and it occurs consistently."
   ]
  },
  {
   "cell_type": "markdown",
   "id": "e65a1809-1cec-4930-84d4-c38eada908b5",
   "metadata": {},
   "source": [
    "#### Are there states with consistently high profits?"
   ]
  },
  {
   "cell_type": "code",
   "execution_count": 10,
   "id": "0008476f-5a20-4d6d-ba1f-6d5658ff7fcb",
   "metadata": {
    "tags": []
   },
   "outputs": [
    {
     "name": "stdout",
     "output_type": "stream",
     "text": [
      "States with Consistently High Profits:\n",
      "                   State      Profit\n",
      "0                Alabama   94.865989\n",
      "6               Delaware  103.930988\n",
      "7   District of Columbia  105.958930\n",
      "9                Georgia   88.315453\n",
      "12               Indiana  123.375411\n",
      "20              Michigan   95.934069\n",
      "21             Minnesota  121.608847\n",
      "23              Missouri   97.518341\n",
      "24               Montana  122.221900\n",
      "37          Rhode Island  130.100523\n",
      "43               Vermont  204.088936\n",
      "48               Wyoming  100.196000\n"
     ]
    }
   ],
   "source": [
    "average_profit_by_state = df.groupby('State')['Profit'].mean().reset_index()\n",
    "threshold = average_profit_by_state['Profit'].quantile(0.75)  # Adjust the quantile threshold as needed\n",
    "high_profit_states = average_profit_by_state[average_profit_by_state['Profit'] > threshold]\n",
    "print(\"States with Consistently High Profits:\")\n",
    "print(high_profit_states)"
   ]
  },
  {
   "cell_type": "markdown",
   "id": "ce12cb24-52f6-4690-995f-3b0d931da9d9",
   "metadata": {},
   "source": [
    "### 5. Category Sales Trends:"
   ]
  },
  {
   "cell_type": "markdown",
   "id": "e5250020-b566-4764-8d3b-7508ef369d1e",
   "metadata": {},
   "source": [
    "### Comparison of sales between products categories and sub-categories."
   ]
  },
  {
   "cell_type": "markdown",
   "id": "5dcb8324-7688-4abb-99ac-c0117c2b9f30",
   "metadata": {},
   "source": [
    "#### How do sales compare across different product categories and sub-categories?"
   ]
  },
  {
   "cell_type": "code",
   "execution_count": 11,
   "id": "b8e8c9c4-8832-44dd-a289-fcf3cedda9a6",
   "metadata": {
    "tags": []
   },
   "outputs": [
    {
     "name": "stdout",
     "output_type": "stream",
     "text": [
      "Sales Comparison Across Different Product Categories and Sub-Categories:\n",
      "           Category Sub-Category        Sales\n",
      "0         Furniture    Bookcases  114879.9963\n",
      "1         Furniture       Chairs  328449.1030\n",
      "2         Furniture  Furnishings   91705.1640\n",
      "3         Furniture       Tables  206965.5320\n",
      "4   Office Supplies   Appliances  107532.1610\n",
      "5   Office Supplies          Art   27118.7920\n",
      "6   Office Supplies      Binders  203412.7330\n",
      "7   Office Supplies    Envelopes   16476.4020\n",
      "8   Office Supplies    Fasteners    3024.2800\n",
      "9   Office Supplies       Labels   12486.3120\n",
      "10  Office Supplies        Paper   78479.2060\n",
      "11  Office Supplies      Storage  223843.6080\n",
      "12  Office Supplies     Supplies   46673.5380\n",
      "13       Technology  Accessories  167380.3180\n",
      "14       Technology      Copiers  149528.0300\n",
      "15       Technology     Machines  189238.6310\n",
      "16       Technology       Phones  330007.0540\n"
     ]
    }
   ],
   "source": [
    "sales_by_category_subcategory = df.groupby(['Category', 'Sub-Category'])['Sales'].sum().reset_index()\n",
    "print(\"Sales Comparison Across Different Product Categories and Sub-Categories:\")\n",
    "print(sales_by_category_subcategory)"
   ]
  },
  {
   "cell_type": "markdown",
   "id": "99f1f75e-763f-4e53-9ea8-19aad9936c2f",
   "metadata": {},
   "source": [
    "### 6. Impact of Discounts:  "
   ]
  },
  {
   "cell_type": "markdown",
   "id": "b29bac6d-14c0-442c-9683-721efa3def52",
   "metadata": {},
   "source": [
    "### This shows the effect of discounts on sales and profit."
   ]
  },
  {
   "cell_type": "markdown",
   "id": "d2c62bfe-6bbd-4a66-acac-2eb33424aa53",
   "metadata": {},
   "source": [
    "#### What is the effect of discounts on sales and profit?"
   ]
  },
  {
   "cell_type": "code",
   "execution_count": 12,
   "id": "9b39e55f-5e42-406e-b0f0-75be19eac7b7",
   "metadata": {
    "tags": []
   },
   "outputs": [
    {
     "name": "stdout",
     "output_type": "stream",
     "text": [
      "Effect of Discounts on Sales and Profit:\n",
      "Average Sales with Discounts: $232.74\n",
      "Average Profit with Discounts: $-6.66\n",
      "Average Sales without Discounts: $226.74\n",
      "Average Profit without Discounts: $66.90\n"
     ]
    }
   ],
   "source": [
    "discounted_sales = df[df['Discount'] > 0]\n",
    "undiscounted_sales = df[df['Discount'] == 0]\n",
    "avg_sales_discounted = discounted_sales['Sales'].mean()\n",
    "avg_profit_discounted = discounted_sales['Profit'].mean()\n",
    "avg_sales_undiscounted = undiscounted_sales['Sales'].mean()\n",
    "avg_profit_undiscounted = undiscounted_sales['Profit'].mean()\n",
    "print(\"Effect of Discounts on Sales and Profit:\")\n",
    "print(\"Average Sales with Discounts: ${:.2f}\".format(avg_sales_discounted))\n",
    "print(\"Average Profit with Discounts: ${:.2f}\".format(avg_profit_discounted))\n",
    "print(\"Average Sales without Discounts: ${:.2f}\".format(avg_sales_undiscounted))\n",
    "print(\"Average Profit without Discounts: ${:.2f}\".format(avg_profit_undiscounted))"
   ]
  },
  {
   "cell_type": "markdown",
   "id": "09b6ae53-d1ac-4454-a2df-bc86ef3be0b2",
   "metadata": {},
   "source": [
    "### This shows if there is a correlation between discount and profit margins."
   ]
  },
  {
   "cell_type": "markdown",
   "id": "5ed781bd-2119-4eac-bab2-4cbd4bbc7c5d",
   "metadata": {},
   "source": [
    "#### Is there a correlation between high discounts and profit margins?"
   ]
  },
  {
   "cell_type": "code",
   "execution_count": 13,
   "id": "dbfb4366-4155-4a95-b323-dcafb2a4dc01",
   "metadata": {
    "tags": []
   },
   "outputs": [
    {
     "name": "stdout",
     "output_type": "stream",
     "text": [
      "Correlation between Discounts and Profit: -0.22\n"
     ]
    }
   ],
   "source": [
    "correlation = df['Discount'].corr(df['Profit'])\n",
    "print(\"Correlation between Discounts and Profit: {:.2f}\".format(correlation))"
   ]
  },
  {
   "cell_type": "markdown",
   "id": "055d478e-d2be-4e3e-9193-6f34e75dd9a7",
   "metadata": {},
   "source": [
    "### 7. Profitability by City: "
   ]
  },
  {
   "cell_type": "markdown",
   "id": "4f93a9c5-13ee-4119-835c-db5eefd2cb7d",
   "metadata": {},
   "source": [
    "### This shows the most profitable cities."
   ]
  },
  {
   "cell_type": "markdown",
   "id": "b915e923-735c-4871-bd5b-434c2d53d3ba",
   "metadata": {},
   "source": [
    "#### Which cities are the most profitable?"
   ]
  },
  {
   "cell_type": "code",
   "execution_count": 14,
   "id": "25e51ef5-9a8d-4e55-b53b-6c51decb8cd9",
   "metadata": {
    "tags": []
   },
   "outputs": [
    {
     "name": "stdout",
     "output_type": "stream",
     "text": [
      "Top Profitable Cities:\n",
      "              City      Profit\n",
      "329  New York City  62036.9837\n",
      "266    Los Angeles  30440.7579\n",
      "452        Seattle  29156.0967\n",
      "438  San Francisco  17507.3854\n",
      "123        Detroit  13181.7908\n",
      "233      Lafayette  10018.3876\n",
      "215        Jackson   7581.6828\n",
      "21         Atlanta   6993.6629\n",
      "300    Minneapolis   6824.5846\n",
      "437      San Diego   6377.1960\n"
     ]
    }
   ],
   "source": [
    "profit_by_city = df.groupby('City')['Profit'].sum().reset_index()\n",
    "profit_by_city = profit_by_city.sort_values(by='Profit', ascending=False)\n",
    "print(\"Top Profitable Cities:\")\n",
    "print(profit_by_city.head(10)) "
   ]
  },
  {
   "cell_type": "markdown",
   "id": "62cac013-0cb3-45d8-9b02-94a77439d519",
   "metadata": {},
   "source": [
    "### These are the cities where sales are high but profits are low."
   ]
  },
  {
   "cell_type": "markdown",
   "id": "78c344e8-b207-4d8a-b7a6-3c5f6b2c035d",
   "metadata": {},
   "source": [
    "#### Are there cities where sales are high but profits are low?"
   ]
  },
  {
   "cell_type": "code",
   "execution_count": 15,
   "id": "93b7643a-78df-442e-b780-4f941cef9ff1",
   "metadata": {
    "tags": []
   },
   "outputs": [
    {
     "name": "stdout",
     "output_type": "stream",
     "text": [
      "Cities where Sales are High but Profits are Low:\n",
      "              City  Profit Margin\n",
      "1          Abilene      -2.700000\n",
      "417     Romeoville      -1.650000\n",
      "305  Missouri City      -1.500000\n",
      "117      Deer Park      -1.500000\n",
      "259      Littleton      -1.366667\n",
      "493          Tyler      -1.277500\n",
      "71       Champaign      -1.200000\n",
      "55           Bryan      -1.176488\n",
      "155      Frankfort      -1.100000\n",
      "355         Oswego      -1.045833\n"
     ]
    }
   ],
   "source": [
    "df['Profit Margin'] = df['Profit'] / df['Sales']\n",
    "average_profit_margin_by_city = df.groupby('City')['Profit Margin'].mean().reset_index()\n",
    "average_profit_margin_by_city = average_profit_margin_by_city.sort_values(by='Profit Margin')\n",
    "print(\"Cities where Sales are High but Profits are Low:\")\n",
    "print(average_profit_margin_by_city.head(10))"
   ]
  },
  {
   "cell_type": "markdown",
   "id": "1d194b67-1c60-4e8e-93d7-c27aa3ffee0b",
   "metadata": {},
   "source": [
    "### 8. Sales and Quantity Relationship:"
   ]
  },
  {
   "cell_type": "markdown",
   "id": "b499e2f9-17e5-4dc2-aea9-f1b04317c43b",
   "metadata": {},
   "source": [
    "### Here shows thr relationship between the quantity of items sold and the total sales."
   ]
  },
  {
   "cell_type": "markdown",
   "id": "72a3be69-a0e2-4834-8488-55309c82c743",
   "metadata": {},
   "source": [
    "#### Is there a relationship between the quantity of items sold and the total sales?"
   ]
  },
  {
   "cell_type": "code",
   "execution_count": 16,
   "id": "53288be1-7b4f-49c7-9c8a-c3dd710a96b5",
   "metadata": {
    "tags": []
   },
   "outputs": [
    {
     "name": "stdout",
     "output_type": "stream",
     "text": [
      "Correlation between Quantity and Sales: 0.20\n"
     ]
    }
   ],
   "source": [
    "correlation = df['Quantity'].corr(df['Sales'])\n",
    "print(\"Correlation between Quantity and Sales: {:.2f}\".format(correlation))"
   ]
  },
  {
   "cell_type": "markdown",
   "id": "7748145e-aa2e-4328-9f3e-db2e8f741122",
   "metadata": {},
   "source": [
    "### Below shows a scatter plot using the correlation coefficient above."
   ]
  },
  {
   "cell_type": "markdown",
   "id": "162c4144-d8fc-4cb8-bdb6-aef8d62d0af1",
   "metadata": {},
   "source": [
    "#### Do higher quantities always lead to higher sales?"
   ]
  },
  {
   "cell_type": "code",
   "execution_count": 17,
   "id": "3ec00852-3f70-48b0-81f8-7c1f1394bbd7",
   "metadata": {
    "tags": []
   },
   "outputs": [
    {
     "data": {
      "image/png": "[encoded data removed]",
      "text/plain": [
       "<Figure size 800x600 with 1 Axes>"
      ]
     },
     "metadata": {},
     "output_type": "display_data"
    }
   ],
   "source": [
    "plt.figure(figsize=(8, 6))\n",
    "plt.scatter(df['Quantity'], df['Sales'], alpha=0.5)\n",
    "plt.title('Relationship between Quantity Sold and Total Sales')\n",
    "plt.xlabel('Quantity Sold')\n",
    "plt.ylabel('Total Sales')\n",
    "plt.grid(True)\n",
    "plt.show()"
   ]
  },
  {
   "cell_type": "markdown",
   "id": "1a9a1143-49f7-40b5-ae06-88d6a62f6d8c",
   "metadata": {},
   "source": [
    "### 9. Sales Trends by Postal Code:"
   ]
  },
  {
   "cell_type": "markdown",
   "id": "511ed94b-3be0-43d6-bdd0-4825a7bb0b01",
   "metadata": {},
   "source": [
    "### This shows the specific postal codes that contributes to the total sales and profits."
   ]
  },
  {
   "cell_type": "markdown",
   "id": "972aecdf-dd03-493d-90d7-052353a7a5ab",
   "metadata": {},
   "source": [
    "#### Are there specific postal codes that contribute significantly to total sales and profits?"
   ]
  },
  {
   "cell_type": "code",
   "execution_count": 18,
   "id": "1acf1bd3-f176-4d8e-94b4-370497a77936",
   "metadata": {
    "tags": []
   },
   "outputs": [
    {
     "name": "stdout",
     "output_type": "stream",
     "text": [
      "Postal Codes with the Highest Total Sales and Total Profits:\n",
      "     Postal Code      Sales      Profit\n",
      "54         10024  78697.182  21653.7248\n",
      "55         10035  77357.885  16533.8669\n",
      "52         10009  54761.496  13697.0019\n",
      "578        94122  52667.467   7712.5958\n",
      "53         10011  45551.598  10152.3901\n",
      "..           ...        ...         ...\n",
      "148        32174      2.808     -1.9656\n",
      "151        32503      2.214     -1.4760\n",
      "177        33458      2.064      0.1548\n",
      "226        44035      1.824     -1.3984\n",
      "453        79605      1.392     -3.7584\n",
      "\n",
      "[631 rows x 3 columns]\n"
     ]
    }
   ],
   "source": [
    "sales_profits_by_postal_code = df.groupby('Postal Code')[['Sales', 'Profit']].sum().reset_index()\n",
    "sales_profits_by_postal_code = sales_profits_by_postal_code.sort_values(by=['Sales', 'Profit'], ascending=False)\n",
    "print(\"Postal Codes with the Highest Total Sales and Total Profits:\")\n",
    "print(sales_profits_by_postal_code)"
   ]
  },
  {
   "cell_type": "markdown",
   "id": "2b26024a-e880-4e54-aab0-d1df93f23d5d",
   "metadata": {},
   "source": [
    "### 10. Regional Discounts:"
   ]
  },
  {
   "cell_type": "markdown",
   "id": "7cf4640a-4be8-46c7-8369-bd2a02e393e3",
   "metadata": {},
   "source": [
    "### This shows regions where higher discounts are offered frequently."
   ]
  },
  {
   "cell_type": "markdown",
   "id": "66f41115-8b89-4fa4-931a-fbe0e2075fd0",
   "metadata": {},
   "source": [
    "#### Are there regions where higher discounts are offered more frequently?"
   ]
  },
  {
   "cell_type": "code",
   "execution_count": 19,
   "id": "a02fb10a-a821-4697-8d5d-222b81d14f20",
   "metadata": {
    "tags": []
   },
   "outputs": [
    {
     "name": "stdout",
     "output_type": "stream",
     "text": [
      "Regions with the Highest Average Discounts:\n",
      "    Region  Discount\n",
      "0  Central  0.240353\n",
      "2    South  0.147253\n",
      "1     East  0.145365\n",
      "3     West  0.109335\n"
     ]
    }
   ],
   "source": [
    "average_discount_by_region = df.groupby('Region')['Discount'].mean().reset_index()\n",
    "average_discount_by_region = average_discount_by_region.sort_values(by='Discount', ascending=False)\n",
    "print(\"Regions with the Highest Average Discounts:\")\n",
    "print(average_discount_by_region)"
   ]
  },
  {
   "cell_type": "markdown",
   "id": "f39d53b4-4301-4333-a9cb-3f5eaee9da7d",
   "metadata": {},
   "source": [
    "### This shows how discounts affects sales and profits in different regions."
   ]
  },
  {
   "cell_type": "markdown",
   "id": "11acea91-c1a1-42ef-a776-5ca5c34ae9ce",
   "metadata": {},
   "source": [
    "#### How do these discounts affect sales and profit in those regions?"
   ]
  },
  {
   "cell_type": "code",
   "execution_count": 20,
   "id": "39550731-9330-452e-9e9d-f799c2fa8dea",
   "metadata": {
    "tags": []
   },
   "outputs": [
    {
     "name": "stdout",
     "output_type": "stream",
     "text": [
      "Summary of Sales, Profit, and Average Discount by Region:\n",
      "    Region  Total Sales  Total Profit  Average Discount\n",
      "0  Central  501239.8908    39706.3625          0.240353\n",
      "2    South  391721.9050    46749.4303          0.147253\n",
      "1     East  678781.2400    91522.7800          0.145365\n",
      "3     West  725457.8245   108418.4489          0.109335\n"
     ]
    }
   ],
   "source": [
    "region_summary = df.groupby('Region').agg({\n",
    "    'Sales': 'sum',\n",
    "    'Profit': 'sum',\n",
    "    'Discount': 'mean'\n",
    "}).reset_index()\n",
    "region_summary.columns = ['Region', 'Total Sales', 'Total Profit', 'Average Discount']\n",
    "region_summary = region_summary.sort_values(by='Average Discount', ascending=False)\n",
    "print(\"Summary of Sales, Profit, and Average Discount by Region:\")\n",
    "print(region_summary)"
   ]
  },
  {
   "cell_type": "code",
   "execution_count": null,
   "id": "08ab55cd-7e1e-4dd9-8a29-c2948aded9ca",
   "metadata": {},
   "outputs": [],
   "source": []
  }
 ],
 "metadata": {
  "kernelspec": {
   "display_name": "Python 3 (ipykernel)",
   "language": "python",
   "name": "python3"
  },
  "language_info": {
   "codemirror_mode": {
    "name": "ipython",
    "version": 3
   },
   "file_extension": ".py",
   "mimetype": "text/x-python",
   "name": "python",
   "nbconvert_exporter": "python",
   "pygments_lexer": "ipython3",
   "version": "3.11.4"
  }
 },
 "nbformat": 4,
 "nbformat_minor": 5
}
