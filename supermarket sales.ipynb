{
 "cells": [
  {
   "cell_type": "markdown",
   "id": "3f31d898-f2fa-4018-82a0-910cb29e7710",
   "metadata": {
    "tags": []
   },
   "source": [
    "# Introduction\n",
    "##### This dataset is sourced from a supermarket sales records, it contains information on consumer purchasesover thwe year. It comprises of 1002 rows and 18 columns representing various aspect of each transaction. This dataset includes numerical variables and categorical variables. To carryout data analysis i will be importing some necessary libraries to aid me in my work."
   ]
  },
  {
   "cell_type": "code",
   "execution_count": 2,
   "id": "1207121f-9e49-4305-a5cc-31922372f589",
   "metadata": {
    "tags": []
   },
   "outputs": [],
   "source": [
    "import numpy as np\n",
    "import pandas as pd\n",
    "import matplotlib.pyplot as plt\n",
    "import seaborn as sns"
   ]
  },
  {
   "cell_type": "markdown",
   "id": "63f79a6e-9eb2-4b83-8816-de9b7d20e51d",
   "metadata": {},
   "source": [
    "##### The name of the file i will be working with is \"C:\\Users\\USER\\Desktop\\supermarket_sales - Sheet1.csv\". This file is in Comma-Seperated Values(CSV) format which is used widely for storing tabular data. CSV files are commonly used because they are easy to create and read."
   ]
  },
  {
   "cell_type": "code",
   "execution_count": 3,
   "id": "edb3e91f-d3cf-4050-b23b-d517d84aa12a",
   "metadata": {
    "tags": []
   },
   "outputs": [],
   "source": [
    "df=pd.read_csv(r\"C:\\Users\\USER\\Desktop\\supermarket_sales - Sheet1.csv\")"
   ]
  },
  {
   "cell_type": "code",
   "execution_count": 4,
   "id": "ff4cf67b-8f92-427c-a24e-bb0d0bdef1c7",
   "metadata": {
    "tags": []
   },
   "outputs": [
    {
     "data": {
      "text/html": [
       "<div>\n",
       "<style scoped>\n",
       "    .dataframe tbody tr th:only-of-type {\n",
       "        vertical-align: middle;\n",
       "    }\n",
       "\n",
       "    .dataframe tbody tr th {\n",
       "        vertical-align: top;\n",
       "    }\n",
       "\n",
       "    .dataframe thead th {\n",
       "        text-align: right;\n",
       "    }\n",
       "</style>\n",
       "<table border=\"1\" class=\"dataframe\">\n",
       "  <thead>\n",
       "    <tr style=\"text-align: right;\">\n",
       "      <th></th>\n",
       "      <th>Invoice ID</th>\n",
       "      <th>Branch</th>\n",
       "      <th>City</th>\n",
       "      <th>Customer type</th>\n",
       "      <th>Product line</th>\n",
       "      <th>Unit price</th>\n",
       "      <th>Quantity</th>\n",
       "      <th>Review Quantity</th>\n",
       "      <th>Check</th>\n",
       "      <th>Tax 5%</th>\n",
       "      <th>Total</th>\n",
       "      <th>Date</th>\n",
       "      <th>Time</th>\n",
       "      <th>Payment</th>\n",
       "      <th>cogs</th>\n",
       "      <th>gross margin percentage</th>\n",
       "      <th>gross income</th>\n",
       "      <th>Rating</th>\n",
       "    </tr>\n",
       "  </thead>\n",
       "  <tbody>\n",
       "    <tr>\n",
       "      <th>0</th>\n",
       "      <td>750-67-8428</td>\n",
       "      <td>R1C1</td>\n",
       "      <td>Yangon</td>\n",
       "      <td>Customer</td>\n",
       "      <td>Health and beauty</td>\n",
       "      <td>67.99</td>\n",
       "      <td>7.0</td>\n",
       "      <td>7</td>\n",
       "      <td>NaN</td>\n",
       "      <td>23.8%</td>\n",
       "      <td>$475.93</td>\n",
       "      <td>1/5/2019</td>\n",
       "      <td>1:08:00 PM</td>\n",
       "      <td>Ewallet</td>\n",
       "      <td>522.83</td>\n",
       "      <td>4.761905</td>\n",
       "      <td>26.1415</td>\n",
       "      <td>9.1</td>\n",
       "    </tr>\n",
       "    <tr>\n",
       "      <th>1</th>\n",
       "      <td>226-31-3081</td>\n",
       "      <td>C</td>\n",
       "      <td>Naypyitaw</td>\n",
       "      <td>Normal</td>\n",
       "      <td>Electronic \\naccessories</td>\n",
       "      <td>15.28</td>\n",
       "      <td>5.0</td>\n",
       "      <td>5</td>\n",
       "      <td>NaN</td>\n",
       "      <td>3.8%</td>\n",
       "      <td>$76.40</td>\n",
       "      <td>3/8/2019</td>\n",
       "      <td>10:29:00 AM</td>\n",
       "      <td>Cash</td>\n",
       "      <td>76.40</td>\n",
       "      <td>4.761905</td>\n",
       "      <td>3.8200</td>\n",
       "      <td>9.6</td>\n",
       "    </tr>\n",
       "    <tr>\n",
       "      <th>2</th>\n",
       "      <td>631-41-3108</td>\n",
       "      <td>A</td>\n",
       "      <td>Yangon</td>\n",
       "      <td>Normal</td>\n",
       "      <td>Home and lifestyle</td>\n",
       "      <td>46.33</td>\n",
       "      <td>7.0</td>\n",
       "      <td>7</td>\n",
       "      <td>NaN</td>\n",
       "      <td>16.2%</td>\n",
       "      <td>$324.31</td>\n",
       "      <td>3/3/2019</td>\n",
       "      <td>1:23:00 PM</td>\n",
       "      <td>Credit card</td>\n",
       "      <td>324.31</td>\n",
       "      <td>NaN</td>\n",
       "      <td>16.2155</td>\n",
       "      <td>7.4</td>\n",
       "    </tr>\n",
       "    <tr>\n",
       "      <th>3</th>\n",
       "      <td>123-19-1176</td>\n",
       "      <td>A</td>\n",
       "      <td>Yangon</td>\n",
       "      <td>Customer</td>\n",
       "      <td>Health and beauty</td>\n",
       "      <td>58.22</td>\n",
       "      <td>8.0</td>\n",
       "      <td>8</td>\n",
       "      <td>NaN</td>\n",
       "      <td>23.3%</td>\n",
       "      <td>$465.76</td>\n",
       "      <td>1/27/2019</td>\n",
       "      <td>8:33:00 PM</td>\n",
       "      <td>Ewallet</td>\n",
       "      <td>465.76</td>\n",
       "      <td>4.761905</td>\n",
       "      <td>23.2880</td>\n",
       "      <td>8.4</td>\n",
       "    </tr>\n",
       "    <tr>\n",
       "      <th>4</th>\n",
       "      <td>373-73-7910</td>\n",
       "      <td>A</td>\n",
       "      <td>Yangon</td>\n",
       "      <td>Normal</td>\n",
       "      <td>Sports and travel</td>\n",
       "      <td>86.31</td>\n",
       "      <td>7.0</td>\n",
       "      <td>7</td>\n",
       "      <td>NaN</td>\n",
       "      <td>30.2%</td>\n",
       "      <td>$604.17</td>\n",
       "      <td>2/8/2019</td>\n",
       "      <td>10:37:00 AM</td>\n",
       "      <td>Ewallet</td>\n",
       "      <td>604.17</td>\n",
       "      <td>4.761905</td>\n",
       "      <td>30.2085</td>\n",
       "      <td>5.3</td>\n",
       "    </tr>\n",
       "    <tr>\n",
       "      <th>...</th>\n",
       "      <td>...</td>\n",
       "      <td>...</td>\n",
       "      <td>...</td>\n",
       "      <td>...</td>\n",
       "      <td>...</td>\n",
       "      <td>...</td>\n",
       "      <td>...</td>\n",
       "      <td>...</td>\n",
       "      <td>...</td>\n",
       "      <td>...</td>\n",
       "      <td>...</td>\n",
       "      <td>...</td>\n",
       "      <td>...</td>\n",
       "      <td>...</td>\n",
       "      <td>...</td>\n",
       "      <td>...</td>\n",
       "      <td>...</td>\n",
       "      <td>...</td>\n",
       "    </tr>\n",
       "    <tr>\n",
       "      <th>997</th>\n",
       "      <td>727-02-1313</td>\n",
       "      <td>A</td>\n",
       "      <td>Yangon</td>\n",
       "      <td>Customer</td>\n",
       "      <td>Food and beverages</td>\n",
       "      <td>31.84</td>\n",
       "      <td>1.0</td>\n",
       "      <td>1</td>\n",
       "      <td>NaN</td>\n",
       "      <td>1.6%</td>\n",
       "      <td>$31.84</td>\n",
       "      <td>2/9/2019</td>\n",
       "      <td>1:22:00 PM</td>\n",
       "      <td>Cash</td>\n",
       "      <td>31.84</td>\n",
       "      <td>4.761905</td>\n",
       "      <td>1.5920</td>\n",
       "      <td>7.7</td>\n",
       "    </tr>\n",
       "    <tr>\n",
       "      <th>998</th>\n",
       "      <td>347-56-2442</td>\n",
       "      <td>A</td>\n",
       "      <td>Yangon</td>\n",
       "      <td>Normal</td>\n",
       "      <td>Home and lifestyle</td>\n",
       "      <td>65.82</td>\n",
       "      <td>1.0</td>\n",
       "      <td>1</td>\n",
       "      <td>NaN</td>\n",
       "      <td>3.3%</td>\n",
       "      <td>$65.82</td>\n",
       "      <td>2/22/2019</td>\n",
       "      <td>3:33:00 PM</td>\n",
       "      <td>Cash</td>\n",
       "      <td>65.82</td>\n",
       "      <td>4.761905</td>\n",
       "      <td>3.2910</td>\n",
       "      <td>4.1</td>\n",
       "    </tr>\n",
       "    <tr>\n",
       "      <th>999</th>\n",
       "      <td>849-09-3807</td>\n",
       "      <td>A</td>\n",
       "      <td>Yangon</td>\n",
       "      <td>Customer</td>\n",
       "      <td>Fashion accessories</td>\n",
       "      <td>88.34</td>\n",
       "      <td>7.0</td>\n",
       "      <td>7</td>\n",
       "      <td>NaN</td>\n",
       "      <td>30.9%</td>\n",
       "      <td>$618.38</td>\n",
       "      <td>2/18/2019</td>\n",
       "      <td>1:28:00 PM</td>\n",
       "      <td>Cash</td>\n",
       "      <td>618.38</td>\n",
       "      <td>4.761905</td>\n",
       "      <td>30.9190</td>\n",
       "      <td>6.6</td>\n",
       "    </tr>\n",
       "    <tr>\n",
       "      <th>1000</th>\n",
       "      <td>NaN</td>\n",
       "      <td>NaN</td>\n",
       "      <td>NaN</td>\n",
       "      <td>NaN</td>\n",
       "      <td>NaN</td>\n",
       "      <td>55665.43</td>\n",
       "      <td>NaN</td>\n",
       "      <td>NaN</td>\n",
       "      <td>NaN</td>\n",
       "      <td>NaN</td>\n",
       "      <td>$-</td>\n",
       "      <td>NaN</td>\n",
       "      <td>NaN</td>\n",
       "      <td>NaN</td>\n",
       "      <td>NaN</td>\n",
       "      <td>NaN</td>\n",
       "      <td>NaN</td>\n",
       "      <td>NaN</td>\n",
       "    </tr>\n",
       "    <tr>\n",
       "      <th>1001</th>\n",
       "      <td>NaN</td>\n",
       "      <td>NaN</td>\n",
       "      <td>NaN</td>\n",
       "      <td>NaN</td>\n",
       "      <td>NaN</td>\n",
       "      <td>NaN</td>\n",
       "      <td>NaN</td>\n",
       "      <td>R1C1</td>\n",
       "      <td>NaN</td>\n",
       "      <td>NaN</td>\n",
       "      <td>NaN</td>\n",
       "      <td>NaN</td>\n",
       "      <td>NaN</td>\n",
       "      <td>NaN</td>\n",
       "      <td>NaN</td>\n",
       "      <td>NaN</td>\n",
       "      <td>NaN</td>\n",
       "      <td>NaN</td>\n",
       "    </tr>\n",
       "  </tbody>\n",
       "</table>\n",
       "<p>1002 rows × 18 columns</p>\n",
       "</div>"
      ],
      "text/plain": [
       "       Invoice ID Branch       City Customer type              Product line  \\\n",
       "0     750-67-8428   R1C1     Yangon      Customer         Health and beauty   \n",
       "1     226-31-3081      C  Naypyitaw        Normal  Electronic \\naccessories   \n",
       "2     631-41-3108      A     Yangon        Normal        Home and lifestyle   \n",
       "3     123-19-1176      A     Yangon      Customer         Health and beauty   \n",
       "4     373-73-7910      A     Yangon        Normal         Sports and travel   \n",
       "...           ...    ...        ...           ...                       ...   \n",
       "997   727-02-1313      A     Yangon      Customer        Food and beverages   \n",
       "998   347-56-2442      A     Yangon        Normal        Home and lifestyle   \n",
       "999   849-09-3807      A     Yangon      Customer       Fashion accessories   \n",
       "1000          NaN    NaN        NaN           NaN                       NaN   \n",
       "1001          NaN    NaN        NaN           NaN                       NaN   \n",
       "\n",
       "      Unit price  Quantity Review Quantity  Check Tax 5%     Total   \\\n",
       "0          67.99       7.0               7    NaN  23.8%   $475.93    \n",
       "1          15.28       5.0               5    NaN   3.8%    $76.40    \n",
       "2          46.33       7.0               7    NaN  16.2%   $324.31    \n",
       "3          58.22       8.0               8    NaN  23.3%   $465.76    \n",
       "4          86.31       7.0               7    NaN  30.2%   $604.17    \n",
       "...          ...       ...             ...    ...    ...        ...   \n",
       "997        31.84       1.0               1    NaN   1.6%    $31.84    \n",
       "998        65.82       1.0               1    NaN   3.3%    $65.82    \n",
       "999        88.34       7.0               7    NaN  30.9%   $618.38    \n",
       "1000    55665.43       NaN             NaN    NaN    NaN      $-      \n",
       "1001         NaN       NaN            R1C1    NaN    NaN        NaN   \n",
       "\n",
       "           Date         Time      Payment    cogs  gross margin percentage  \\\n",
       "0      1/5/2019   1:08:00 PM      Ewallet  522.83                 4.761905   \n",
       "1      3/8/2019  10:29:00 AM         Cash   76.40                 4.761905   \n",
       "2      3/3/2019   1:23:00 PM  Credit card  324.31                      NaN   \n",
       "3     1/27/2019   8:33:00 PM      Ewallet  465.76                 4.761905   \n",
       "4      2/8/2019  10:37:00 AM      Ewallet  604.17                 4.761905   \n",
       "...         ...          ...          ...     ...                      ...   \n",
       "997    2/9/2019   1:22:00 PM         Cash   31.84                 4.761905   \n",
       "998   2/22/2019   3:33:00 PM         Cash   65.82                 4.761905   \n",
       "999   2/18/2019   1:28:00 PM         Cash  618.38                 4.761905   \n",
       "1000        NaN          NaN          NaN     NaN                      NaN   \n",
       "1001        NaN          NaN          NaN     NaN                      NaN   \n",
       "\n",
       "      gross income  Rating  \n",
       "0          26.1415     9.1  \n",
       "1           3.8200     9.6  \n",
       "2          16.2155     7.4  \n",
       "3          23.2880     8.4  \n",
       "4          30.2085     5.3  \n",
       "...            ...     ...  \n",
       "997         1.5920     7.7  \n",
       "998         3.2910     4.1  \n",
       "999        30.9190     6.6  \n",
       "1000           NaN     NaN  \n",
       "1001           NaN     NaN  \n",
       "\n",
       "[1002 rows x 18 columns]"
      ]
     },
     "execution_count": 4,
     "metadata": {},
     "output_type": "execute_result"
    }
   ],
   "source": [
    "df"
   ]
  },
  {
   "cell_type": "markdown",
   "id": "92f7df3b-fbea-4517-a6de-537cbea2f1c3",
   "metadata": {
    "tags": []
   },
   "source": [
    "## I will be carrying out some cleaning process on my data to ensure it is ready for use. In a raw dataset, there are sometimes useless values or null values. In this step i am trying to remove the R1C1 value from the branch column as it is completely useless in the dataset i am working with.\n"
   ]
  },
  {
   "cell_type": "code",
   "execution_count": 5,
   "id": "d4d73014-4c82-4431-8e0c-b23282086bde",
   "metadata": {
    "tags": []
   },
   "outputs": [],
   "source": [
    "df['Branch'] = df['Branch'].str.replace('R1C1', '')\n"
   ]
  },
  {
   "cell_type": "markdown",
   "id": "24876f8d-041c-48e4-9514-fcf9ca68ce78",
   "metadata": {},
   "source": [
    "## Using the code above,the R1C1 value will be removed from my dataset leaving a blank space."
   ]
  },
  {
   "cell_type": "code",
   "execution_count": 6,
   "id": "3f42ee28-a7d9-4f9b-a8d3-80eacbba0dc1",
   "metadata": {
    "tags": []
   },
   "outputs": [
    {
     "data": {
      "text/html": [
       "<div>\n",
       "<style scoped>\n",
       "    .dataframe tbody tr th:only-of-type {\n",
       "        vertical-align: middle;\n",
       "    }\n",
       "\n",
       "    .dataframe tbody tr th {\n",
       "        vertical-align: top;\n",
       "    }\n",
       "\n",
       "    .dataframe thead th {\n",
       "        text-align: right;\n",
       "    }\n",
       "</style>\n",
       "<table border=\"1\" class=\"dataframe\">\n",
       "  <thead>\n",
       "    <tr style=\"text-align: right;\">\n",
       "      <th></th>\n",
       "      <th>Invoice ID</th>\n",
       "      <th>Branch</th>\n",
       "      <th>City</th>\n",
       "      <th>Customer type</th>\n",
       "      <th>Product line</th>\n",
       "      <th>Unit price</th>\n",
       "      <th>Quantity</th>\n",
       "      <th>Review Quantity</th>\n",
       "      <th>Check</th>\n",
       "      <th>Tax 5%</th>\n",
       "      <th>Total</th>\n",
       "      <th>Date</th>\n",
       "      <th>Time</th>\n",
       "      <th>Payment</th>\n",
       "      <th>cogs</th>\n",
       "      <th>gross margin percentage</th>\n",
       "      <th>gross income</th>\n",
       "      <th>Rating</th>\n",
       "    </tr>\n",
       "  </thead>\n",
       "  <tbody>\n",
       "    <tr>\n",
       "      <th>0</th>\n",
       "      <td>750-67-8428</td>\n",
       "      <td></td>\n",
       "      <td>Yangon</td>\n",
       "      <td>Customer</td>\n",
       "      <td>Health and beauty</td>\n",
       "      <td>67.99</td>\n",
       "      <td>7.0</td>\n",
       "      <td>7</td>\n",
       "      <td>NaN</td>\n",
       "      <td>23.8%</td>\n",
       "      <td>$475.93</td>\n",
       "      <td>1/5/2019</td>\n",
       "      <td>1:08:00 PM</td>\n",
       "      <td>Ewallet</td>\n",
       "      <td>522.83</td>\n",
       "      <td>4.761905</td>\n",
       "      <td>26.1415</td>\n",
       "      <td>9.1</td>\n",
       "    </tr>\n",
       "    <tr>\n",
       "      <th>1</th>\n",
       "      <td>226-31-3081</td>\n",
       "      <td>C</td>\n",
       "      <td>Naypyitaw</td>\n",
       "      <td>Normal</td>\n",
       "      <td>Electronic \\naccessories</td>\n",
       "      <td>15.28</td>\n",
       "      <td>5.0</td>\n",
       "      <td>5</td>\n",
       "      <td>NaN</td>\n",
       "      <td>3.8%</td>\n",
       "      <td>$76.40</td>\n",
       "      <td>3/8/2019</td>\n",
       "      <td>10:29:00 AM</td>\n",
       "      <td>Cash</td>\n",
       "      <td>76.40</td>\n",
       "      <td>4.761905</td>\n",
       "      <td>3.8200</td>\n",
       "      <td>9.6</td>\n",
       "    </tr>\n",
       "    <tr>\n",
       "      <th>2</th>\n",
       "      <td>631-41-3108</td>\n",
       "      <td>A</td>\n",
       "      <td>Yangon</td>\n",
       "      <td>Normal</td>\n",
       "      <td>Home and lifestyle</td>\n",
       "      <td>46.33</td>\n",
       "      <td>7.0</td>\n",
       "      <td>7</td>\n",
       "      <td>NaN</td>\n",
       "      <td>16.2%</td>\n",
       "      <td>$324.31</td>\n",
       "      <td>3/3/2019</td>\n",
       "      <td>1:23:00 PM</td>\n",
       "      <td>Credit card</td>\n",
       "      <td>324.31</td>\n",
       "      <td>NaN</td>\n",
       "      <td>16.2155</td>\n",
       "      <td>7.4</td>\n",
       "    </tr>\n",
       "    <tr>\n",
       "      <th>3</th>\n",
       "      <td>123-19-1176</td>\n",
       "      <td>A</td>\n",
       "      <td>Yangon</td>\n",
       "      <td>Customer</td>\n",
       "      <td>Health and beauty</td>\n",
       "      <td>58.22</td>\n",
       "      <td>8.0</td>\n",
       "      <td>8</td>\n",
       "      <td>NaN</td>\n",
       "      <td>23.3%</td>\n",
       "      <td>$465.76</td>\n",
       "      <td>1/27/2019</td>\n",
       "      <td>8:33:00 PM</td>\n",
       "      <td>Ewallet</td>\n",
       "      <td>465.76</td>\n",
       "      <td>4.761905</td>\n",
       "      <td>23.2880</td>\n",
       "      <td>8.4</td>\n",
       "    </tr>\n",
       "    <tr>\n",
       "      <th>4</th>\n",
       "      <td>373-73-7910</td>\n",
       "      <td>A</td>\n",
       "      <td>Yangon</td>\n",
       "      <td>Normal</td>\n",
       "      <td>Sports and travel</td>\n",
       "      <td>86.31</td>\n",
       "      <td>7.0</td>\n",
       "      <td>7</td>\n",
       "      <td>NaN</td>\n",
       "      <td>30.2%</td>\n",
       "      <td>$604.17</td>\n",
       "      <td>2/8/2019</td>\n",
       "      <td>10:37:00 AM</td>\n",
       "      <td>Ewallet</td>\n",
       "      <td>604.17</td>\n",
       "      <td>4.761905</td>\n",
       "      <td>30.2085</td>\n",
       "      <td>5.3</td>\n",
       "    </tr>\n",
       "    <tr>\n",
       "      <th>...</th>\n",
       "      <td>...</td>\n",
       "      <td>...</td>\n",
       "      <td>...</td>\n",
       "      <td>...</td>\n",
       "      <td>...</td>\n",
       "      <td>...</td>\n",
       "      <td>...</td>\n",
       "      <td>...</td>\n",
       "      <td>...</td>\n",
       "      <td>...</td>\n",
       "      <td>...</td>\n",
       "      <td>...</td>\n",
       "      <td>...</td>\n",
       "      <td>...</td>\n",
       "      <td>...</td>\n",
       "      <td>...</td>\n",
       "      <td>...</td>\n",
       "      <td>...</td>\n",
       "    </tr>\n",
       "    <tr>\n",
       "      <th>997</th>\n",
       "      <td>727-02-1313</td>\n",
       "      <td>A</td>\n",
       "      <td>Yangon</td>\n",
       "      <td>Customer</td>\n",
       "      <td>Food and beverages</td>\n",
       "      <td>31.84</td>\n",
       "      <td>1.0</td>\n",
       "      <td>1</td>\n",
       "      <td>NaN</td>\n",
       "      <td>1.6%</td>\n",
       "      <td>$31.84</td>\n",
       "      <td>2/9/2019</td>\n",
       "      <td>1:22:00 PM</td>\n",
       "      <td>Cash</td>\n",
       "      <td>31.84</td>\n",
       "      <td>4.761905</td>\n",
       "      <td>1.5920</td>\n",
       "      <td>7.7</td>\n",
       "    </tr>\n",
       "    <tr>\n",
       "      <th>998</th>\n",
       "      <td>347-56-2442</td>\n",
       "      <td>A</td>\n",
       "      <td>Yangon</td>\n",
       "      <td>Normal</td>\n",
       "      <td>Home and lifestyle</td>\n",
       "      <td>65.82</td>\n",
       "      <td>1.0</td>\n",
       "      <td>1</td>\n",
       "      <td>NaN</td>\n",
       "      <td>3.3%</td>\n",
       "      <td>$65.82</td>\n",
       "      <td>2/22/2019</td>\n",
       "      <td>3:33:00 PM</td>\n",
       "      <td>Cash</td>\n",
       "      <td>65.82</td>\n",
       "      <td>4.761905</td>\n",
       "      <td>3.2910</td>\n",
       "      <td>4.1</td>\n",
       "    </tr>\n",
       "    <tr>\n",
       "      <th>999</th>\n",
       "      <td>849-09-3807</td>\n",
       "      <td>A</td>\n",
       "      <td>Yangon</td>\n",
       "      <td>Customer</td>\n",
       "      <td>Fashion accessories</td>\n",
       "      <td>88.34</td>\n",
       "      <td>7.0</td>\n",
       "      <td>7</td>\n",
       "      <td>NaN</td>\n",
       "      <td>30.9%</td>\n",
       "      <td>$618.38</td>\n",
       "      <td>2/18/2019</td>\n",
       "      <td>1:28:00 PM</td>\n",
       "      <td>Cash</td>\n",
       "      <td>618.38</td>\n",
       "      <td>4.761905</td>\n",
       "      <td>30.9190</td>\n",
       "      <td>6.6</td>\n",
       "    </tr>\n",
       "    <tr>\n",
       "      <th>1000</th>\n",
       "      <td>NaN</td>\n",
       "      <td>NaN</td>\n",
       "      <td>NaN</td>\n",
       "      <td>NaN</td>\n",
       "      <td>NaN</td>\n",
       "      <td>55665.43</td>\n",
       "      <td>NaN</td>\n",
       "      <td>NaN</td>\n",
       "      <td>NaN</td>\n",
       "      <td>NaN</td>\n",
       "      <td>$-</td>\n",
       "      <td>NaN</td>\n",
       "      <td>NaN</td>\n",
       "      <td>NaN</td>\n",
       "      <td>NaN</td>\n",
       "      <td>NaN</td>\n",
       "      <td>NaN</td>\n",
       "      <td>NaN</td>\n",
       "    </tr>\n",
       "    <tr>\n",
       "      <th>1001</th>\n",
       "      <td>NaN</td>\n",
       "      <td>NaN</td>\n",
       "      <td>NaN</td>\n",
       "      <td>NaN</td>\n",
       "      <td>NaN</td>\n",
       "      <td>NaN</td>\n",
       "      <td>NaN</td>\n",
       "      <td>R1C1</td>\n",
       "      <td>NaN</td>\n",
       "      <td>NaN</td>\n",
       "      <td>NaN</td>\n",
       "      <td>NaN</td>\n",
       "      <td>NaN</td>\n",
       "      <td>NaN</td>\n",
       "      <td>NaN</td>\n",
       "      <td>NaN</td>\n",
       "      <td>NaN</td>\n",
       "      <td>NaN</td>\n",
       "    </tr>\n",
       "  </tbody>\n",
       "</table>\n",
       "<p>1002 rows × 18 columns</p>\n",
       "</div>"
      ],
      "text/plain": [
       "       Invoice ID Branch       City Customer type              Product line  \\\n",
       "0     750-67-8428            Yangon      Customer         Health and beauty   \n",
       "1     226-31-3081      C  Naypyitaw        Normal  Electronic \\naccessories   \n",
       "2     631-41-3108      A     Yangon        Normal        Home and lifestyle   \n",
       "3     123-19-1176      A     Yangon      Customer         Health and beauty   \n",
       "4     373-73-7910      A     Yangon        Normal         Sports and travel   \n",
       "...           ...    ...        ...           ...                       ...   \n",
       "997   727-02-1313      A     Yangon      Customer        Food and beverages   \n",
       "998   347-56-2442      A     Yangon        Normal        Home and lifestyle   \n",
       "999   849-09-3807      A     Yangon      Customer       Fashion accessories   \n",
       "1000          NaN    NaN        NaN           NaN                       NaN   \n",
       "1001          NaN    NaN        NaN           NaN                       NaN   \n",
       "\n",
       "      Unit price  Quantity Review Quantity  Check Tax 5%     Total   \\\n",
       "0          67.99       7.0               7    NaN  23.8%   $475.93    \n",
       "1          15.28       5.0               5    NaN   3.8%    $76.40    \n",
       "2          46.33       7.0               7    NaN  16.2%   $324.31    \n",
       "3          58.22       8.0               8    NaN  23.3%   $465.76    \n",
       "4          86.31       7.0               7    NaN  30.2%   $604.17    \n",
       "...          ...       ...             ...    ...    ...        ...   \n",
       "997        31.84       1.0               1    NaN   1.6%    $31.84    \n",
       "998        65.82       1.0               1    NaN   3.3%    $65.82    \n",
       "999        88.34       7.0               7    NaN  30.9%   $618.38    \n",
       "1000    55665.43       NaN             NaN    NaN    NaN      $-      \n",
       "1001         NaN       NaN            R1C1    NaN    NaN        NaN   \n",
       "\n",
       "           Date         Time      Payment    cogs  gross margin percentage  \\\n",
       "0      1/5/2019   1:08:00 PM      Ewallet  522.83                 4.761905   \n",
       "1      3/8/2019  10:29:00 AM         Cash   76.40                 4.761905   \n",
       "2      3/3/2019   1:23:00 PM  Credit card  324.31                      NaN   \n",
       "3     1/27/2019   8:33:00 PM      Ewallet  465.76                 4.761905   \n",
       "4      2/8/2019  10:37:00 AM      Ewallet  604.17                 4.761905   \n",
       "...         ...          ...          ...     ...                      ...   \n",
       "997    2/9/2019   1:22:00 PM         Cash   31.84                 4.761905   \n",
       "998   2/22/2019   3:33:00 PM         Cash   65.82                 4.761905   \n",
       "999   2/18/2019   1:28:00 PM         Cash  618.38                 4.761905   \n",
       "1000        NaN          NaN          NaN     NaN                      NaN   \n",
       "1001        NaN          NaN          NaN     NaN                      NaN   \n",
       "\n",
       "      gross income  Rating  \n",
       "0          26.1415     9.1  \n",
       "1           3.8200     9.6  \n",
       "2          16.2155     7.4  \n",
       "3          23.2880     8.4  \n",
       "4          30.2085     5.3  \n",
       "...            ...     ...  \n",
       "997         1.5920     7.7  \n",
       "998         3.2910     4.1  \n",
       "999        30.9190     6.6  \n",
       "1000           NaN     NaN  \n",
       "1001           NaN     NaN  \n",
       "\n",
       "[1002 rows x 18 columns]"
      ]
     },
     "execution_count": 6,
     "metadata": {},
     "output_type": "execute_result"
    }
   ],
   "source": [
    "df"
   ]
  },
  {
   "cell_type": "markdown",
   "id": "61e621bf-aeeb-4e5b-adcb-2d1c0103d2f9",
   "metadata": {},
   "source": [
    "## After removing the R1C1 value from the dataset,the next thing to do is to remove the NaN values,in this case the entire check column is being removed as it all consist of the NaN Values. This is the second step in cleaning my data."
   ]
  },
  {
   "cell_type": "code",
   "execution_count": 7,
   "id": "cdb4f767-ab8a-4210-afa7-8963c876e8bf",
   "metadata": {
    "tags": []
   },
   "outputs": [],
   "source": [
    "df = df.drop(columns=['Check'])"
   ]
  },
  {
   "cell_type": "markdown",
   "id": "b83c7197-2c69-4989-9ac7-eeae1b4fa9b9",
   "metadata": {},
   "source": [
    "## Using the code written above,I will be removing the entire check column as it consist of only NaN values."
   ]
  },
  {
   "cell_type": "code",
   "execution_count": 8,
   "id": "49221e94-94a2-4b73-8885-634533e6f9a9",
   "metadata": {
    "tags": []
   },
   "outputs": [
    {
     "data": {
      "text/html": [
       "<div>\n",
       "<style scoped>\n",
       "    .dataframe tbody tr th:only-of-type {\n",
       "        vertical-align: middle;\n",
       "    }\n",
       "\n",
       "    .dataframe tbody tr th {\n",
       "        vertical-align: top;\n",
       "    }\n",
       "\n",
       "    .dataframe thead th {\n",
       "        text-align: right;\n",
       "    }\n",
       "</style>\n",
       "<table border=\"1\" class=\"dataframe\">\n",
       "  <thead>\n",
       "    <tr style=\"text-align: right;\">\n",
       "      <th></th>\n",
       "      <th>Invoice ID</th>\n",
       "      <th>Branch</th>\n",
       "      <th>City</th>\n",
       "      <th>Customer type</th>\n",
       "      <th>Product line</th>\n",
       "      <th>Unit price</th>\n",
       "      <th>Quantity</th>\n",
       "      <th>Review Quantity</th>\n",
       "      <th>Tax 5%</th>\n",
       "      <th>Total</th>\n",
       "      <th>Date</th>\n",
       "      <th>Time</th>\n",
       "      <th>Payment</th>\n",
       "      <th>cogs</th>\n",
       "      <th>gross margin percentage</th>\n",
       "      <th>gross income</th>\n",
       "      <th>Rating</th>\n",
       "    </tr>\n",
       "  </thead>\n",
       "  <tbody>\n",
       "    <tr>\n",
       "      <th>0</th>\n",
       "      <td>750-67-8428</td>\n",
       "      <td></td>\n",
       "      <td>Yangon</td>\n",
       "      <td>Customer</td>\n",
       "      <td>Health and beauty</td>\n",
       "      <td>67.99</td>\n",
       "      <td>7.0</td>\n",
       "      <td>7</td>\n",
       "      <td>23.8%</td>\n",
       "      <td>$475.93</td>\n",
       "      <td>1/5/2019</td>\n",
       "      <td>1:08:00 PM</td>\n",
       "      <td>Ewallet</td>\n",
       "      <td>522.83</td>\n",
       "      <td>4.761905</td>\n",
       "      <td>26.1415</td>\n",
       "      <td>9.1</td>\n",
       "    </tr>\n",
       "    <tr>\n",
       "      <th>1</th>\n",
       "      <td>226-31-3081</td>\n",
       "      <td>C</td>\n",
       "      <td>Naypyitaw</td>\n",
       "      <td>Normal</td>\n",
       "      <td>Electronic \\naccessories</td>\n",
       "      <td>15.28</td>\n",
       "      <td>5.0</td>\n",
       "      <td>5</td>\n",
       "      <td>3.8%</td>\n",
       "      <td>$76.40</td>\n",
       "      <td>3/8/2019</td>\n",
       "      <td>10:29:00 AM</td>\n",
       "      <td>Cash</td>\n",
       "      <td>76.40</td>\n",
       "      <td>4.761905</td>\n",
       "      <td>3.8200</td>\n",
       "      <td>9.6</td>\n",
       "    </tr>\n",
       "    <tr>\n",
       "      <th>2</th>\n",
       "      <td>631-41-3108</td>\n",
       "      <td>A</td>\n",
       "      <td>Yangon</td>\n",
       "      <td>Normal</td>\n",
       "      <td>Home and lifestyle</td>\n",
       "      <td>46.33</td>\n",
       "      <td>7.0</td>\n",
       "      <td>7</td>\n",
       "      <td>16.2%</td>\n",
       "      <td>$324.31</td>\n",
       "      <td>3/3/2019</td>\n",
       "      <td>1:23:00 PM</td>\n",
       "      <td>Credit card</td>\n",
       "      <td>324.31</td>\n",
       "      <td>NaN</td>\n",
       "      <td>16.2155</td>\n",
       "      <td>7.4</td>\n",
       "    </tr>\n",
       "    <tr>\n",
       "      <th>3</th>\n",
       "      <td>123-19-1176</td>\n",
       "      <td>A</td>\n",
       "      <td>Yangon</td>\n",
       "      <td>Customer</td>\n",
       "      <td>Health and beauty</td>\n",
       "      <td>58.22</td>\n",
       "      <td>8.0</td>\n",
       "      <td>8</td>\n",
       "      <td>23.3%</td>\n",
       "      <td>$465.76</td>\n",
       "      <td>1/27/2019</td>\n",
       "      <td>8:33:00 PM</td>\n",
       "      <td>Ewallet</td>\n",
       "      <td>465.76</td>\n",
       "      <td>4.761905</td>\n",
       "      <td>23.2880</td>\n",
       "      <td>8.4</td>\n",
       "    </tr>\n",
       "    <tr>\n",
       "      <th>4</th>\n",
       "      <td>373-73-7910</td>\n",
       "      <td>A</td>\n",
       "      <td>Yangon</td>\n",
       "      <td>Normal</td>\n",
       "      <td>Sports and travel</td>\n",
       "      <td>86.31</td>\n",
       "      <td>7.0</td>\n",
       "      <td>7</td>\n",
       "      <td>30.2%</td>\n",
       "      <td>$604.17</td>\n",
       "      <td>2/8/2019</td>\n",
       "      <td>10:37:00 AM</td>\n",
       "      <td>Ewallet</td>\n",
       "      <td>604.17</td>\n",
       "      <td>4.761905</td>\n",
       "      <td>30.2085</td>\n",
       "      <td>5.3</td>\n",
       "    </tr>\n",
       "    <tr>\n",
       "      <th>...</th>\n",
       "      <td>...</td>\n",
       "      <td>...</td>\n",
       "      <td>...</td>\n",
       "      <td>...</td>\n",
       "      <td>...</td>\n",
       "      <td>...</td>\n",
       "      <td>...</td>\n",
       "      <td>...</td>\n",
       "      <td>...</td>\n",
       "      <td>...</td>\n",
       "      <td>...</td>\n",
       "      <td>...</td>\n",
       "      <td>...</td>\n",
       "      <td>...</td>\n",
       "      <td>...</td>\n",
       "      <td>...</td>\n",
       "      <td>...</td>\n",
       "    </tr>\n",
       "    <tr>\n",
       "      <th>997</th>\n",
       "      <td>727-02-1313</td>\n",
       "      <td>A</td>\n",
       "      <td>Yangon</td>\n",
       "      <td>Customer</td>\n",
       "      <td>Food and beverages</td>\n",
       "      <td>31.84</td>\n",
       "      <td>1.0</td>\n",
       "      <td>1</td>\n",
       "      <td>1.6%</td>\n",
       "      <td>$31.84</td>\n",
       "      <td>2/9/2019</td>\n",
       "      <td>1:22:00 PM</td>\n",
       "      <td>Cash</td>\n",
       "      <td>31.84</td>\n",
       "      <td>4.761905</td>\n",
       "      <td>1.5920</td>\n",
       "      <td>7.7</td>\n",
       "    </tr>\n",
       "    <tr>\n",
       "      <th>998</th>\n",
       "      <td>347-56-2442</td>\n",
       "      <td>A</td>\n",
       "      <td>Yangon</td>\n",
       "      <td>Normal</td>\n",
       "      <td>Home and lifestyle</td>\n",
       "      <td>65.82</td>\n",
       "      <td>1.0</td>\n",
       "      <td>1</td>\n",
       "      <td>3.3%</td>\n",
       "      <td>$65.82</td>\n",
       "      <td>2/22/2019</td>\n",
       "      <td>3:33:00 PM</td>\n",
       "      <td>Cash</td>\n",
       "      <td>65.82</td>\n",
       "      <td>4.761905</td>\n",
       "      <td>3.2910</td>\n",
       "      <td>4.1</td>\n",
       "    </tr>\n",
       "    <tr>\n",
       "      <th>999</th>\n",
       "      <td>849-09-3807</td>\n",
       "      <td>A</td>\n",
       "      <td>Yangon</td>\n",
       "      <td>Customer</td>\n",
       "      <td>Fashion accessories</td>\n",
       "      <td>88.34</td>\n",
       "      <td>7.0</td>\n",
       "      <td>7</td>\n",
       "      <td>30.9%</td>\n",
       "      <td>$618.38</td>\n",
       "      <td>2/18/2019</td>\n",
       "      <td>1:28:00 PM</td>\n",
       "      <td>Cash</td>\n",
       "      <td>618.38</td>\n",
       "      <td>4.761905</td>\n",
       "      <td>30.9190</td>\n",
       "      <td>6.6</td>\n",
       "    </tr>\n",
       "    <tr>\n",
       "      <th>1000</th>\n",
       "      <td>NaN</td>\n",
       "      <td>NaN</td>\n",
       "      <td>NaN</td>\n",
       "      <td>NaN</td>\n",
       "      <td>NaN</td>\n",
       "      <td>55665.43</td>\n",
       "      <td>NaN</td>\n",
       "      <td>NaN</td>\n",
       "      <td>NaN</td>\n",
       "      <td>$-</td>\n",
       "      <td>NaN</td>\n",
       "      <td>NaN</td>\n",
       "      <td>NaN</td>\n",
       "      <td>NaN</td>\n",
       "      <td>NaN</td>\n",
       "      <td>NaN</td>\n",
       "      <td>NaN</td>\n",
       "    </tr>\n",
       "    <tr>\n",
       "      <th>1001</th>\n",
       "      <td>NaN</td>\n",
       "      <td>NaN</td>\n",
       "      <td>NaN</td>\n",
       "      <td>NaN</td>\n",
       "      <td>NaN</td>\n",
       "      <td>NaN</td>\n",
       "      <td>NaN</td>\n",
       "      <td>R1C1</td>\n",
       "      <td>NaN</td>\n",
       "      <td>NaN</td>\n",
       "      <td>NaN</td>\n",
       "      <td>NaN</td>\n",
       "      <td>NaN</td>\n",
       "      <td>NaN</td>\n",
       "      <td>NaN</td>\n",
       "      <td>NaN</td>\n",
       "      <td>NaN</td>\n",
       "    </tr>\n",
       "  </tbody>\n",
       "</table>\n",
       "<p>1002 rows × 17 columns</p>\n",
       "</div>"
      ],
      "text/plain": [
       "       Invoice ID Branch       City Customer type              Product line  \\\n",
       "0     750-67-8428            Yangon      Customer         Health and beauty   \n",
       "1     226-31-3081      C  Naypyitaw        Normal  Electronic \\naccessories   \n",
       "2     631-41-3108      A     Yangon        Normal        Home and lifestyle   \n",
       "3     123-19-1176      A     Yangon      Customer         Health and beauty   \n",
       "4     373-73-7910      A     Yangon        Normal         Sports and travel   \n",
       "...           ...    ...        ...           ...                       ...   \n",
       "997   727-02-1313      A     Yangon      Customer        Food and beverages   \n",
       "998   347-56-2442      A     Yangon        Normal        Home and lifestyle   \n",
       "999   849-09-3807      A     Yangon      Customer       Fashion accessories   \n",
       "1000          NaN    NaN        NaN           NaN                       NaN   \n",
       "1001          NaN    NaN        NaN           NaN                       NaN   \n",
       "\n",
       "      Unit price  Quantity Review Quantity Tax 5%     Total        Date  \\\n",
       "0          67.99       7.0               7  23.8%   $475.93    1/5/2019   \n",
       "1          15.28       5.0               5   3.8%    $76.40    3/8/2019   \n",
       "2          46.33       7.0               7  16.2%   $324.31    3/3/2019   \n",
       "3          58.22       8.0               8  23.3%   $465.76   1/27/2019   \n",
       "4          86.31       7.0               7  30.2%   $604.17    2/8/2019   \n",
       "...          ...       ...             ...    ...        ...        ...   \n",
       "997        31.84       1.0               1   1.6%    $31.84    2/9/2019   \n",
       "998        65.82       1.0               1   3.3%    $65.82   2/22/2019   \n",
       "999        88.34       7.0               7  30.9%   $618.38   2/18/2019   \n",
       "1000    55665.43       NaN             NaN    NaN      $-           NaN   \n",
       "1001         NaN       NaN            R1C1    NaN        NaN        NaN   \n",
       "\n",
       "             Time      Payment    cogs  gross margin percentage  gross income  \\\n",
       "0      1:08:00 PM      Ewallet  522.83                 4.761905       26.1415   \n",
       "1     10:29:00 AM         Cash   76.40                 4.761905        3.8200   \n",
       "2      1:23:00 PM  Credit card  324.31                      NaN       16.2155   \n",
       "3      8:33:00 PM      Ewallet  465.76                 4.761905       23.2880   \n",
       "4     10:37:00 AM      Ewallet  604.17                 4.761905       30.2085   \n",
       "...           ...          ...     ...                      ...           ...   \n",
       "997    1:22:00 PM         Cash   31.84                 4.761905        1.5920   \n",
       "998    3:33:00 PM         Cash   65.82                 4.761905        3.2910   \n",
       "999    1:28:00 PM         Cash  618.38                 4.761905       30.9190   \n",
       "1000          NaN          NaN     NaN                      NaN           NaN   \n",
       "1001          NaN          NaN     NaN                      NaN           NaN   \n",
       "\n",
       "      Rating  \n",
       "0        9.1  \n",
       "1        9.6  \n",
       "2        7.4  \n",
       "3        8.4  \n",
       "4        5.3  \n",
       "...      ...  \n",
       "997      7.7  \n",
       "998      4.1  \n",
       "999      6.6  \n",
       "1000     NaN  \n",
       "1001     NaN  \n",
       "\n",
       "[1002 rows x 17 columns]"
      ]
     },
     "execution_count": 8,
     "metadata": {},
     "output_type": "execute_result"
    }
   ],
   "source": [
    "df"
   ]
  },
  {
   "cell_type": "markdown",
   "id": "55a62414-f062-44c1-9723-f0900ff66926",
   "metadata": {},
   "source": [
    "## After removing the NaN values from the check column,the next thing it to remove the NaN values from the rows by using the code df.dropna() as seen below. After doing this the rows and column of the dataset reduces,this is the third step in cleaning my data."
   ]
  },
  {
   "cell_type": "code",
   "execution_count": 9,
   "id": "d568a2bd-3949-42c1-92cd-c00b5fa14222",
   "metadata": {
    "tags": []
   },
   "outputs": [],
   "source": [
    "df = df.dropna()"
   ]
  },
  {
   "cell_type": "markdown",
   "id": "0086e0bf-164d-4e3d-89be-d7220c2aa713",
   "metadata": {},
   "source": [
    "## df.dropna() is used in removing in this case dropping all of the rows containing NaN values as i had done to the check column previously."
   ]
  },
  {
   "cell_type": "code",
   "execution_count": 10,
   "id": "9f55b27c-f957-47d9-a41b-627cb2e9a974",
   "metadata": {
    "tags": []
   },
   "outputs": [
    {
     "data": {
      "text/html": [
       "<div>\n",
       "<style scoped>\n",
       "    .dataframe tbody tr th:only-of-type {\n",
       "        vertical-align: middle;\n",
       "    }\n",
       "\n",
       "    .dataframe tbody tr th {\n",
       "        vertical-align: top;\n",
       "    }\n",
       "\n",
       "    .dataframe thead th {\n",
       "        text-align: right;\n",
       "    }\n",
       "</style>\n",
       "<table border=\"1\" class=\"dataframe\">\n",
       "  <thead>\n",
       "    <tr style=\"text-align: right;\">\n",
       "      <th></th>\n",
       "      <th>Invoice ID</th>\n",
       "      <th>Branch</th>\n",
       "      <th>City</th>\n",
       "      <th>Customer type</th>\n",
       "      <th>Product line</th>\n",
       "      <th>Unit price</th>\n",
       "      <th>Quantity</th>\n",
       "      <th>Review Quantity</th>\n",
       "      <th>Tax 5%</th>\n",
       "      <th>Total</th>\n",
       "      <th>Date</th>\n",
       "      <th>Time</th>\n",
       "      <th>Payment</th>\n",
       "      <th>cogs</th>\n",
       "      <th>gross margin percentage</th>\n",
       "      <th>gross income</th>\n",
       "      <th>Rating</th>\n",
       "    </tr>\n",
       "  </thead>\n",
       "  <tbody>\n",
       "    <tr>\n",
       "      <th>0</th>\n",
       "      <td>750-67-8428</td>\n",
       "      <td></td>\n",
       "      <td>Yangon</td>\n",
       "      <td>Customer</td>\n",
       "      <td>Health and beauty</td>\n",
       "      <td>67.99</td>\n",
       "      <td>7.0</td>\n",
       "      <td>7</td>\n",
       "      <td>23.8%</td>\n",
       "      <td>$475.93</td>\n",
       "      <td>1/5/2019</td>\n",
       "      <td>1:08:00 PM</td>\n",
       "      <td>Ewallet</td>\n",
       "      <td>522.83</td>\n",
       "      <td>4.761905</td>\n",
       "      <td>26.1415</td>\n",
       "      <td>9.1</td>\n",
       "    </tr>\n",
       "    <tr>\n",
       "      <th>1</th>\n",
       "      <td>226-31-3081</td>\n",
       "      <td>C</td>\n",
       "      <td>Naypyitaw</td>\n",
       "      <td>Normal</td>\n",
       "      <td>Electronic \\naccessories</td>\n",
       "      <td>15.28</td>\n",
       "      <td>5.0</td>\n",
       "      <td>5</td>\n",
       "      <td>3.8%</td>\n",
       "      <td>$76.40</td>\n",
       "      <td>3/8/2019</td>\n",
       "      <td>10:29:00 AM</td>\n",
       "      <td>Cash</td>\n",
       "      <td>76.40</td>\n",
       "      <td>4.761905</td>\n",
       "      <td>3.8200</td>\n",
       "      <td>9.6</td>\n",
       "    </tr>\n",
       "    <tr>\n",
       "      <th>3</th>\n",
       "      <td>123-19-1176</td>\n",
       "      <td>A</td>\n",
       "      <td>Yangon</td>\n",
       "      <td>Customer</td>\n",
       "      <td>Health and beauty</td>\n",
       "      <td>58.22</td>\n",
       "      <td>8.0</td>\n",
       "      <td>8</td>\n",
       "      <td>23.3%</td>\n",
       "      <td>$465.76</td>\n",
       "      <td>1/27/2019</td>\n",
       "      <td>8:33:00 PM</td>\n",
       "      <td>Ewallet</td>\n",
       "      <td>465.76</td>\n",
       "      <td>4.761905</td>\n",
       "      <td>23.2880</td>\n",
       "      <td>8.4</td>\n",
       "    </tr>\n",
       "    <tr>\n",
       "      <th>4</th>\n",
       "      <td>373-73-7910</td>\n",
       "      <td>A</td>\n",
       "      <td>Yangon</td>\n",
       "      <td>Normal</td>\n",
       "      <td>Sports and travel</td>\n",
       "      <td>86.31</td>\n",
       "      <td>7.0</td>\n",
       "      <td>7</td>\n",
       "      <td>30.2%</td>\n",
       "      <td>$604.17</td>\n",
       "      <td>2/8/2019</td>\n",
       "      <td>10:37:00 AM</td>\n",
       "      <td>Ewallet</td>\n",
       "      <td>604.17</td>\n",
       "      <td>4.761905</td>\n",
       "      <td>30.2085</td>\n",
       "      <td>5.3</td>\n",
       "    </tr>\n",
       "    <tr>\n",
       "      <th>5</th>\n",
       "      <td>699-14-3026</td>\n",
       "      <td>C</td>\n",
       "      <td>Naypyitaw</td>\n",
       "      <td>Normal</td>\n",
       "      <td>Electronic accessories</td>\n",
       "      <td>85.39</td>\n",
       "      <td>7.0</td>\n",
       "      <td>7</td>\n",
       "      <td>29.9%</td>\n",
       "      <td>$597.73</td>\n",
       "      <td>3/25/2019</td>\n",
       "      <td>6:30:00 PM</td>\n",
       "      <td>Ewallet</td>\n",
       "      <td>597.73</td>\n",
       "      <td>4.761905</td>\n",
       "      <td>29.8865</td>\n",
       "      <td>4.1</td>\n",
       "    </tr>\n",
       "    <tr>\n",
       "      <th>...</th>\n",
       "      <td>...</td>\n",
       "      <td>...</td>\n",
       "      <td>...</td>\n",
       "      <td>...</td>\n",
       "      <td>...</td>\n",
       "      <td>...</td>\n",
       "      <td>...</td>\n",
       "      <td>...</td>\n",
       "      <td>...</td>\n",
       "      <td>...</td>\n",
       "      <td>...</td>\n",
       "      <td>...</td>\n",
       "      <td>...</td>\n",
       "      <td>...</td>\n",
       "      <td>...</td>\n",
       "      <td>...</td>\n",
       "      <td>...</td>\n",
       "    </tr>\n",
       "    <tr>\n",
       "      <th>995</th>\n",
       "      <td>233-67-5758</td>\n",
       "      <td>C</td>\n",
       "      <td>Naypyitaw</td>\n",
       "      <td>Normal</td>\n",
       "      <td>Health and beauty</td>\n",
       "      <td>40.35</td>\n",
       "      <td>1.0</td>\n",
       "      <td>1</td>\n",
       "      <td>2.0%</td>\n",
       "      <td>$40.35</td>\n",
       "      <td>1/29/2019</td>\n",
       "      <td>1:46:00 PM</td>\n",
       "      <td>Ewallet</td>\n",
       "      <td>40.35</td>\n",
       "      <td>4.761905</td>\n",
       "      <td>2.0175</td>\n",
       "      <td>6.2</td>\n",
       "    </tr>\n",
       "    <tr>\n",
       "      <th>996</th>\n",
       "      <td>303-96-2227</td>\n",
       "      <td>B</td>\n",
       "      <td>Mandalay</td>\n",
       "      <td>Normal</td>\n",
       "      <td>Home and lifestyle</td>\n",
       "      <td>97.38</td>\n",
       "      <td>10.0</td>\n",
       "      <td>10</td>\n",
       "      <td>48.7%</td>\n",
       "      <td>$973.80</td>\n",
       "      <td>3/2/2019</td>\n",
       "      <td>5:16:00 PM</td>\n",
       "      <td>Ewallet</td>\n",
       "      <td>973.80</td>\n",
       "      <td>4.761905</td>\n",
       "      <td>48.6900</td>\n",
       "      <td>4.4</td>\n",
       "    </tr>\n",
       "    <tr>\n",
       "      <th>997</th>\n",
       "      <td>727-02-1313</td>\n",
       "      <td>A</td>\n",
       "      <td>Yangon</td>\n",
       "      <td>Customer</td>\n",
       "      <td>Food and beverages</td>\n",
       "      <td>31.84</td>\n",
       "      <td>1.0</td>\n",
       "      <td>1</td>\n",
       "      <td>1.6%</td>\n",
       "      <td>$31.84</td>\n",
       "      <td>2/9/2019</td>\n",
       "      <td>1:22:00 PM</td>\n",
       "      <td>Cash</td>\n",
       "      <td>31.84</td>\n",
       "      <td>4.761905</td>\n",
       "      <td>1.5920</td>\n",
       "      <td>7.7</td>\n",
       "    </tr>\n",
       "    <tr>\n",
       "      <th>998</th>\n",
       "      <td>347-56-2442</td>\n",
       "      <td>A</td>\n",
       "      <td>Yangon</td>\n",
       "      <td>Normal</td>\n",
       "      <td>Home and lifestyle</td>\n",
       "      <td>65.82</td>\n",
       "      <td>1.0</td>\n",
       "      <td>1</td>\n",
       "      <td>3.3%</td>\n",
       "      <td>$65.82</td>\n",
       "      <td>2/22/2019</td>\n",
       "      <td>3:33:00 PM</td>\n",
       "      <td>Cash</td>\n",
       "      <td>65.82</td>\n",
       "      <td>4.761905</td>\n",
       "      <td>3.2910</td>\n",
       "      <td>4.1</td>\n",
       "    </tr>\n",
       "    <tr>\n",
       "      <th>999</th>\n",
       "      <td>849-09-3807</td>\n",
       "      <td>A</td>\n",
       "      <td>Yangon</td>\n",
       "      <td>Customer</td>\n",
       "      <td>Fashion accessories</td>\n",
       "      <td>88.34</td>\n",
       "      <td>7.0</td>\n",
       "      <td>7</td>\n",
       "      <td>30.9%</td>\n",
       "      <td>$618.38</td>\n",
       "      <td>2/18/2019</td>\n",
       "      <td>1:28:00 PM</td>\n",
       "      <td>Cash</td>\n",
       "      <td>618.38</td>\n",
       "      <td>4.761905</td>\n",
       "      <td>30.9190</td>\n",
       "      <td>6.6</td>\n",
       "    </tr>\n",
       "  </tbody>\n",
       "</table>\n",
       "<p>998 rows × 17 columns</p>\n",
       "</div>"
      ],
      "text/plain": [
       "      Invoice ID Branch       City Customer type              Product line  \\\n",
       "0    750-67-8428            Yangon      Customer         Health and beauty   \n",
       "1    226-31-3081      C  Naypyitaw        Normal  Electronic \\naccessories   \n",
       "3    123-19-1176      A     Yangon      Customer         Health and beauty   \n",
       "4    373-73-7910      A     Yangon        Normal         Sports and travel   \n",
       "5    699-14-3026      C  Naypyitaw        Normal    Electronic accessories   \n",
       "..           ...    ...        ...           ...                       ...   \n",
       "995  233-67-5758      C  Naypyitaw        Normal         Health and beauty   \n",
       "996  303-96-2227      B   Mandalay        Normal        Home and lifestyle   \n",
       "997  727-02-1313      A     Yangon      Customer        Food and beverages   \n",
       "998  347-56-2442      A     Yangon        Normal        Home and lifestyle   \n",
       "999  849-09-3807      A     Yangon      Customer       Fashion accessories   \n",
       "\n",
       "     Unit price  Quantity Review Quantity Tax 5%     Total        Date  \\\n",
       "0         67.99       7.0               7  23.8%   $475.93    1/5/2019   \n",
       "1         15.28       5.0               5   3.8%    $76.40    3/8/2019   \n",
       "3         58.22       8.0               8  23.3%   $465.76   1/27/2019   \n",
       "4         86.31       7.0               7  30.2%   $604.17    2/8/2019   \n",
       "5         85.39       7.0               7  29.9%   $597.73   3/25/2019   \n",
       "..          ...       ...             ...    ...        ...        ...   \n",
       "995       40.35       1.0               1   2.0%    $40.35   1/29/2019   \n",
       "996       97.38      10.0              10  48.7%   $973.80    3/2/2019   \n",
       "997       31.84       1.0               1   1.6%    $31.84    2/9/2019   \n",
       "998       65.82       1.0               1   3.3%    $65.82   2/22/2019   \n",
       "999       88.34       7.0               7  30.9%   $618.38   2/18/2019   \n",
       "\n",
       "            Time  Payment    cogs  gross margin percentage  gross income  \\\n",
       "0     1:08:00 PM  Ewallet  522.83                 4.761905       26.1415   \n",
       "1    10:29:00 AM     Cash   76.40                 4.761905        3.8200   \n",
       "3     8:33:00 PM  Ewallet  465.76                 4.761905       23.2880   \n",
       "4    10:37:00 AM  Ewallet  604.17                 4.761905       30.2085   \n",
       "5     6:30:00 PM  Ewallet  597.73                 4.761905       29.8865   \n",
       "..           ...      ...     ...                      ...           ...   \n",
       "995   1:46:00 PM  Ewallet   40.35                 4.761905        2.0175   \n",
       "996   5:16:00 PM  Ewallet  973.80                 4.761905       48.6900   \n",
       "997   1:22:00 PM     Cash   31.84                 4.761905        1.5920   \n",
       "998   3:33:00 PM     Cash   65.82                 4.761905        3.2910   \n",
       "999   1:28:00 PM     Cash  618.38                 4.761905       30.9190   \n",
       "\n",
       "     Rating  \n",
       "0       9.1  \n",
       "1       9.6  \n",
       "3       8.4  \n",
       "4       5.3  \n",
       "5       4.1  \n",
       "..      ...  \n",
       "995     6.2  \n",
       "996     4.4  \n",
       "997     7.7  \n",
       "998     4.1  \n",
       "999     6.6  \n",
       "\n",
       "[998 rows x 17 columns]"
      ]
     },
     "execution_count": 10,
     "metadata": {},
     "output_type": "execute_result"
    }
   ],
   "source": [
    "df"
   ]
  },
  {
   "cell_type": "markdown",
   "id": "5a57b58f-f6de-4d35-933c-87c61cbf5ef8",
   "metadata": {},
   "source": [
    "## When using pandas,unique is used to know the specific values for a specific column while nunique is used to know the number of unique values."
   ]
  },
  {
   "cell_type": "code",
   "execution_count": 11,
   "id": "a4d38e83-cd4b-4ac8-98da-272f4654b174",
   "metadata": {
    "tags": []
   },
   "outputs": [
    {
     "data": {
      "text/plain": [
       "array(['Yangon', 'Naypyitaw', 'Mandalay'], dtype=object)"
      ]
     },
     "execution_count": 11,
     "metadata": {},
     "output_type": "execute_result"
    }
   ],
   "source": [
    "df['City'].unique()"
   ]
  },
  {
   "cell_type": "markdown",
   "id": "82e220f2-158e-4fd1-8332-34ce5b507801",
   "metadata": {},
   "source": [
    "## In this case we have 'Yangon', 'Napytaw', 'Mandalay'"
   ]
  },
  {
   "cell_type": "code",
   "execution_count": 12,
   "id": "2981778c-5368-4346-bf0b-7be6641cd416",
   "metadata": {
    "tags": []
   },
   "outputs": [
    {
     "data": {
      "text/plain": [
       "3"
      ]
     },
     "execution_count": 12,
     "metadata": {},
     "output_type": "execute_result"
    }
   ],
   "source": [
    "df['City'].nunique()"
   ]
  },
  {
   "cell_type": "markdown",
   "id": "c4eb2acf-8315-48d6-b1d4-1cde71bab68d",
   "metadata": {},
   "source": [
    "## In this case we have just 3 number of uniques values in the 'City' column.,we can also substitute the coulum value and there will be different numbers of unique values."
   ]
  },
  {
   "cell_type": "markdown",
   "id": "df5277f4-9797-4b09-a5de-7df782a4d70b",
   "metadata": {},
   "source": [
    "## The code df.head() is used to isolate the first top rows of a data set, in this case head(9) is used to bring only the first 9 or the top 9 data from the dataset."
   ]
  },
  {
   "cell_type": "code",
   "execution_count": 13,
   "id": "8ade4263-be50-4e32-a975-e520f6312dc5",
   "metadata": {
    "tags": []
   },
   "outputs": [
    {
     "data": {
      "text/html": [
       "<div>\n",
       "<style scoped>\n",
       "    .dataframe tbody tr th:only-of-type {\n",
       "        vertical-align: middle;\n",
       "    }\n",
       "\n",
       "    .dataframe tbody tr th {\n",
       "        vertical-align: top;\n",
       "    }\n",
       "\n",
       "    .dataframe thead th {\n",
       "        text-align: right;\n",
       "    }\n",
       "</style>\n",
       "<table border=\"1\" class=\"dataframe\">\n",
       "  <thead>\n",
       "    <tr style=\"text-align: right;\">\n",
       "      <th></th>\n",
       "      <th>Invoice ID</th>\n",
       "      <th>Branch</th>\n",
       "      <th>City</th>\n",
       "      <th>Customer type</th>\n",
       "      <th>Product line</th>\n",
       "      <th>Unit price</th>\n",
       "      <th>Quantity</th>\n",
       "      <th>Review Quantity</th>\n",
       "      <th>Tax 5%</th>\n",
       "      <th>Total</th>\n",
       "      <th>Date</th>\n",
       "      <th>Time</th>\n",
       "      <th>Payment</th>\n",
       "      <th>cogs</th>\n",
       "      <th>gross margin percentage</th>\n",
       "      <th>gross income</th>\n",
       "      <th>Rating</th>\n",
       "    </tr>\n",
       "  </thead>\n",
       "  <tbody>\n",
       "    <tr>\n",
       "      <th>0</th>\n",
       "      <td>750-67-8428</td>\n",
       "      <td></td>\n",
       "      <td>Yangon</td>\n",
       "      <td>Customer</td>\n",
       "      <td>Health and beauty</td>\n",
       "      <td>67.99</td>\n",
       "      <td>7.0</td>\n",
       "      <td>7</td>\n",
       "      <td>23.8%</td>\n",
       "      <td>$475.93</td>\n",
       "      <td>1/5/2019</td>\n",
       "      <td>1:08:00 PM</td>\n",
       "      <td>Ewallet</td>\n",
       "      <td>522.83</td>\n",
       "      <td>4.761905</td>\n",
       "      <td>26.1415</td>\n",
       "      <td>9.1</td>\n",
       "    </tr>\n",
       "    <tr>\n",
       "      <th>1</th>\n",
       "      <td>226-31-3081</td>\n",
       "      <td>C</td>\n",
       "      <td>Naypyitaw</td>\n",
       "      <td>Normal</td>\n",
       "      <td>Electronic \\naccessories</td>\n",
       "      <td>15.28</td>\n",
       "      <td>5.0</td>\n",
       "      <td>5</td>\n",
       "      <td>3.8%</td>\n",
       "      <td>$76.40</td>\n",
       "      <td>3/8/2019</td>\n",
       "      <td>10:29:00 AM</td>\n",
       "      <td>Cash</td>\n",
       "      <td>76.40</td>\n",
       "      <td>4.761905</td>\n",
       "      <td>3.8200</td>\n",
       "      <td>9.6</td>\n",
       "    </tr>\n",
       "    <tr>\n",
       "      <th>3</th>\n",
       "      <td>123-19-1176</td>\n",
       "      <td>A</td>\n",
       "      <td>Yangon</td>\n",
       "      <td>Customer</td>\n",
       "      <td>Health and beauty</td>\n",
       "      <td>58.22</td>\n",
       "      <td>8.0</td>\n",
       "      <td>8</td>\n",
       "      <td>23.3%</td>\n",
       "      <td>$465.76</td>\n",
       "      <td>1/27/2019</td>\n",
       "      <td>8:33:00 PM</td>\n",
       "      <td>Ewallet</td>\n",
       "      <td>465.76</td>\n",
       "      <td>4.761905</td>\n",
       "      <td>23.2880</td>\n",
       "      <td>8.4</td>\n",
       "    </tr>\n",
       "    <tr>\n",
       "      <th>4</th>\n",
       "      <td>373-73-7910</td>\n",
       "      <td>A</td>\n",
       "      <td>Yangon</td>\n",
       "      <td>Normal</td>\n",
       "      <td>Sports and travel</td>\n",
       "      <td>86.31</td>\n",
       "      <td>7.0</td>\n",
       "      <td>7</td>\n",
       "      <td>30.2%</td>\n",
       "      <td>$604.17</td>\n",
       "      <td>2/8/2019</td>\n",
       "      <td>10:37:00 AM</td>\n",
       "      <td>Ewallet</td>\n",
       "      <td>604.17</td>\n",
       "      <td>4.761905</td>\n",
       "      <td>30.2085</td>\n",
       "      <td>5.3</td>\n",
       "    </tr>\n",
       "    <tr>\n",
       "      <th>5</th>\n",
       "      <td>699-14-3026</td>\n",
       "      <td>C</td>\n",
       "      <td>Naypyitaw</td>\n",
       "      <td>Normal</td>\n",
       "      <td>Electronic accessories</td>\n",
       "      <td>85.39</td>\n",
       "      <td>7.0</td>\n",
       "      <td>7</td>\n",
       "      <td>29.9%</td>\n",
       "      <td>$597.73</td>\n",
       "      <td>3/25/2019</td>\n",
       "      <td>6:30:00 PM</td>\n",
       "      <td>Ewallet</td>\n",
       "      <td>597.73</td>\n",
       "      <td>4.761905</td>\n",
       "      <td>29.8865</td>\n",
       "      <td>4.1</td>\n",
       "    </tr>\n",
       "    <tr>\n",
       "      <th>6</th>\n",
       "      <td>355-53-5943</td>\n",
       "      <td>A</td>\n",
       "      <td>Yangon</td>\n",
       "      <td>Customer</td>\n",
       "      <td>Electronic accessories</td>\n",
       "      <td>68.84</td>\n",
       "      <td>6.0</td>\n",
       "      <td>6</td>\n",
       "      <td>20.7%</td>\n",
       "      <td>$413.04</td>\n",
       "      <td>2/25/2019</td>\n",
       "      <td>2:36:00 PM</td>\n",
       "      <td>Ewallet</td>\n",
       "      <td>413.04</td>\n",
       "      <td>4.761905</td>\n",
       "      <td>20.6520</td>\n",
       "      <td>5.8</td>\n",
       "    </tr>\n",
       "    <tr>\n",
       "      <th>7</th>\n",
       "      <td>315-22-5665</td>\n",
       "      <td>C</td>\n",
       "      <td>Naypyitaw</td>\n",
       "      <td>Normal</td>\n",
       "      <td>Home and lifestyle</td>\n",
       "      <td>73.56</td>\n",
       "      <td>10.0</td>\n",
       "      <td>10</td>\n",
       "      <td>36.8%</td>\n",
       "      <td>$735.60</td>\n",
       "      <td>2/24/2019</td>\n",
       "      <td>11:38:00 AM</td>\n",
       "      <td>Ewallet</td>\n",
       "      <td>735.60</td>\n",
       "      <td>4.761905</td>\n",
       "      <td>36.7800</td>\n",
       "      <td>8.0</td>\n",
       "    </tr>\n",
       "    <tr>\n",
       "      <th>8</th>\n",
       "      <td>665-32-9167</td>\n",
       "      <td>A</td>\n",
       "      <td>Yangon</td>\n",
       "      <td>Customer</td>\n",
       "      <td>Health and beauty</td>\n",
       "      <td>36.26</td>\n",
       "      <td>2.0</td>\n",
       "      <td>2</td>\n",
       "      <td>3.6%</td>\n",
       "      <td>$72.52</td>\n",
       "      <td>1/10/2019</td>\n",
       "      <td>5:15:00 PM</td>\n",
       "      <td>Credit card</td>\n",
       "      <td>72.52</td>\n",
       "      <td>4.761905</td>\n",
       "      <td>3.6260</td>\n",
       "      <td>7.2</td>\n",
       "    </tr>\n",
       "    <tr>\n",
       "      <th>10</th>\n",
       "      <td>351-62-0822</td>\n",
       "      <td>B</td>\n",
       "      <td>Mandalay</td>\n",
       "      <td>Customer</td>\n",
       "      <td>Fashion accessories</td>\n",
       "      <td>14.48</td>\n",
       "      <td>4.0</td>\n",
       "      <td>4</td>\n",
       "      <td>2.9%</td>\n",
       "      <td>$57.92</td>\n",
       "      <td>2/6/2019</td>\n",
       "      <td>6:07:00 PM</td>\n",
       "      <td>Ewallet</td>\n",
       "      <td>57.92</td>\n",
       "      <td>4.761905</td>\n",
       "      <td>2.8960</td>\n",
       "      <td>4.5</td>\n",
       "    </tr>\n",
       "  </tbody>\n",
       "</table>\n",
       "</div>"
      ],
      "text/plain": [
       "     Invoice ID Branch       City Customer type              Product line  \\\n",
       "0   750-67-8428            Yangon      Customer         Health and beauty   \n",
       "1   226-31-3081      C  Naypyitaw        Normal  Electronic \\naccessories   \n",
       "3   123-19-1176      A     Yangon      Customer         Health and beauty   \n",
       "4   373-73-7910      A     Yangon        Normal         Sports and travel   \n",
       "5   699-14-3026      C  Naypyitaw        Normal    Electronic accessories   \n",
       "6   355-53-5943      A     Yangon      Customer    Electronic accessories   \n",
       "7   315-22-5665      C  Naypyitaw        Normal        Home and lifestyle   \n",
       "8   665-32-9167      A     Yangon      Customer         Health and beauty   \n",
       "10  351-62-0822      B   Mandalay      Customer       Fashion accessories   \n",
       "\n",
       "    Unit price  Quantity Review Quantity Tax 5%     Total        Date  \\\n",
       "0        67.99       7.0               7  23.8%   $475.93    1/5/2019   \n",
       "1        15.28       5.0               5   3.8%    $76.40    3/8/2019   \n",
       "3        58.22       8.0               8  23.3%   $465.76   1/27/2019   \n",
       "4        86.31       7.0               7  30.2%   $604.17    2/8/2019   \n",
       "5        85.39       7.0               7  29.9%   $597.73   3/25/2019   \n",
       "6        68.84       6.0               6  20.7%   $413.04   2/25/2019   \n",
       "7        73.56      10.0              10  36.8%   $735.60   2/24/2019   \n",
       "8        36.26       2.0               2   3.6%    $72.52   1/10/2019   \n",
       "10       14.48       4.0               4   2.9%    $57.92    2/6/2019   \n",
       "\n",
       "           Time      Payment    cogs  gross margin percentage  gross income  \\\n",
       "0    1:08:00 PM      Ewallet  522.83                 4.761905       26.1415   \n",
       "1   10:29:00 AM         Cash   76.40                 4.761905        3.8200   \n",
       "3    8:33:00 PM      Ewallet  465.76                 4.761905       23.2880   \n",
       "4   10:37:00 AM      Ewallet  604.17                 4.761905       30.2085   \n",
       "5    6:30:00 PM      Ewallet  597.73                 4.761905       29.8865   \n",
       "6    2:36:00 PM      Ewallet  413.04                 4.761905       20.6520   \n",
       "7   11:38:00 AM      Ewallet  735.60                 4.761905       36.7800   \n",
       "8    5:15:00 PM  Credit card   72.52                 4.761905        3.6260   \n",
       "10   6:07:00 PM      Ewallet   57.92                 4.761905        2.8960   \n",
       "\n",
       "    Rating  \n",
       "0      9.1  \n",
       "1      9.6  \n",
       "3      8.4  \n",
       "4      5.3  \n",
       "5      4.1  \n",
       "6      5.8  \n",
       "7      8.0  \n",
       "8      7.2  \n",
       "10     4.5  "
      ]
     },
     "execution_count": 13,
     "metadata": {},
     "output_type": "execute_result"
    }
   ],
   "source": [
    "df.head(9)"
   ]
  },
  {
   "cell_type": "markdown",
   "id": "95caa1f8-cb0c-499d-bd79-b103e3698057",
   "metadata": {},
   "source": [
    "## Using the same logic as head above,tall does the same thing except it is for the last rows of the data set"
   ]
  },
  {
   "cell_type": "code",
   "execution_count": 14,
   "id": "7686ee61-a194-4c49-bf21-13f776fc45f5",
   "metadata": {
    "tags": []
   },
   "outputs": [
    {
     "data": {
      "text/html": [
       "<div>\n",
       "<style scoped>\n",
       "    .dataframe tbody tr th:only-of-type {\n",
       "        vertical-align: middle;\n",
       "    }\n",
       "\n",
       "    .dataframe tbody tr th {\n",
       "        vertical-align: top;\n",
       "    }\n",
       "\n",
       "    .dataframe thead th {\n",
       "        text-align: right;\n",
       "    }\n",
       "</style>\n",
       "<table border=\"1\" class=\"dataframe\">\n",
       "  <thead>\n",
       "    <tr style=\"text-align: right;\">\n",
       "      <th></th>\n",
       "      <th>Invoice ID</th>\n",
       "      <th>Branch</th>\n",
       "      <th>City</th>\n",
       "      <th>Customer type</th>\n",
       "      <th>Product line</th>\n",
       "      <th>Unit price</th>\n",
       "      <th>Quantity</th>\n",
       "      <th>Review Quantity</th>\n",
       "      <th>Tax 5%</th>\n",
       "      <th>Total</th>\n",
       "      <th>Date</th>\n",
       "      <th>Time</th>\n",
       "      <th>Payment</th>\n",
       "      <th>cogs</th>\n",
       "      <th>gross margin percentage</th>\n",
       "      <th>gross income</th>\n",
       "      <th>Rating</th>\n",
       "    </tr>\n",
       "  </thead>\n",
       "  <tbody>\n",
       "    <tr>\n",
       "      <th>997</th>\n",
       "      <td>727-02-1313</td>\n",
       "      <td>A</td>\n",
       "      <td>Yangon</td>\n",
       "      <td>Customer</td>\n",
       "      <td>Food and beverages</td>\n",
       "      <td>31.84</td>\n",
       "      <td>1.0</td>\n",
       "      <td>1</td>\n",
       "      <td>1.6%</td>\n",
       "      <td>$31.84</td>\n",
       "      <td>2/9/2019</td>\n",
       "      <td>1:22:00 PM</td>\n",
       "      <td>Cash</td>\n",
       "      <td>31.84</td>\n",
       "      <td>4.761905</td>\n",
       "      <td>1.592</td>\n",
       "      <td>7.7</td>\n",
       "    </tr>\n",
       "    <tr>\n",
       "      <th>998</th>\n",
       "      <td>347-56-2442</td>\n",
       "      <td>A</td>\n",
       "      <td>Yangon</td>\n",
       "      <td>Normal</td>\n",
       "      <td>Home and lifestyle</td>\n",
       "      <td>65.82</td>\n",
       "      <td>1.0</td>\n",
       "      <td>1</td>\n",
       "      <td>3.3%</td>\n",
       "      <td>$65.82</td>\n",
       "      <td>2/22/2019</td>\n",
       "      <td>3:33:00 PM</td>\n",
       "      <td>Cash</td>\n",
       "      <td>65.82</td>\n",
       "      <td>4.761905</td>\n",
       "      <td>3.291</td>\n",
       "      <td>4.1</td>\n",
       "    </tr>\n",
       "    <tr>\n",
       "      <th>999</th>\n",
       "      <td>849-09-3807</td>\n",
       "      <td>A</td>\n",
       "      <td>Yangon</td>\n",
       "      <td>Customer</td>\n",
       "      <td>Fashion accessories</td>\n",
       "      <td>88.34</td>\n",
       "      <td>7.0</td>\n",
       "      <td>7</td>\n",
       "      <td>30.9%</td>\n",
       "      <td>$618.38</td>\n",
       "      <td>2/18/2019</td>\n",
       "      <td>1:28:00 PM</td>\n",
       "      <td>Cash</td>\n",
       "      <td>618.38</td>\n",
       "      <td>4.761905</td>\n",
       "      <td>30.919</td>\n",
       "      <td>6.6</td>\n",
       "    </tr>\n",
       "  </tbody>\n",
       "</table>\n",
       "</div>"
      ],
      "text/plain": [
       "      Invoice ID Branch    City Customer type         Product line  \\\n",
       "997  727-02-1313      A  Yangon      Customer   Food and beverages   \n",
       "998  347-56-2442      A  Yangon        Normal   Home and lifestyle   \n",
       "999  849-09-3807      A  Yangon      Customer  Fashion accessories   \n",
       "\n",
       "     Unit price  Quantity Review Quantity Tax 5%     Total        Date  \\\n",
       "997       31.84       1.0               1   1.6%    $31.84    2/9/2019   \n",
       "998       65.82       1.0               1   3.3%    $65.82   2/22/2019   \n",
       "999       88.34       7.0               7  30.9%   $618.38   2/18/2019   \n",
       "\n",
       "           Time Payment    cogs  gross margin percentage  gross income  Rating  \n",
       "997  1:22:00 PM    Cash   31.84                 4.761905         1.592     7.7  \n",
       "998  3:33:00 PM    Cash   65.82                 4.761905         3.291     4.1  \n",
       "999  1:28:00 PM    Cash  618.38                 4.761905        30.919     6.6  "
      ]
     },
     "execution_count": 14,
     "metadata": {},
     "output_type": "execute_result"
    }
   ],
   "source": [
    "df.tail(3)"
   ]
  },
  {
   "cell_type": "markdown",
   "id": "b982602c-cd0e-41cb-8138-46e86f877d4f",
   "metadata": {},
   "source": [
    "## Same as head and tall,sample() is used to generate random rows from the dataset."
   ]
  },
  {
   "cell_type": "code",
   "execution_count": 15,
   "id": "84f23619-112e-4891-b18c-7e262bd66c38",
   "metadata": {
    "tags": []
   },
   "outputs": [
    {
     "data": {
      "text/html": [
       "<div>\n",
       "<style scoped>\n",
       "    .dataframe tbody tr th:only-of-type {\n",
       "        vertical-align: middle;\n",
       "    }\n",
       "\n",
       "    .dataframe tbody tr th {\n",
       "        vertical-align: top;\n",
       "    }\n",
       "\n",
       "    .dataframe thead th {\n",
       "        text-align: right;\n",
       "    }\n",
       "</style>\n",
       "<table border=\"1\" class=\"dataframe\">\n",
       "  <thead>\n",
       "    <tr style=\"text-align: right;\">\n",
       "      <th></th>\n",
       "      <th>Invoice ID</th>\n",
       "      <th>Branch</th>\n",
       "      <th>City</th>\n",
       "      <th>Customer type</th>\n",
       "      <th>Product line</th>\n",
       "      <th>Unit price</th>\n",
       "      <th>Quantity</th>\n",
       "      <th>Review Quantity</th>\n",
       "      <th>Tax 5%</th>\n",
       "      <th>Total</th>\n",
       "      <th>Date</th>\n",
       "      <th>Time</th>\n",
       "      <th>Payment</th>\n",
       "      <th>cogs</th>\n",
       "      <th>gross margin percentage</th>\n",
       "      <th>gross income</th>\n",
       "      <th>Rating</th>\n",
       "    </tr>\n",
       "  </thead>\n",
       "  <tbody>\n",
       "    <tr>\n",
       "      <th>593</th>\n",
       "      <td>880-35-0356</td>\n",
       "      <td>A</td>\n",
       "      <td>Yangon</td>\n",
       "      <td>Customer</td>\n",
       "      <td>Sports and travel</td>\n",
       "      <td>75.20</td>\n",
       "      <td>3.0</td>\n",
       "      <td>3</td>\n",
       "      <td>11.3%</td>\n",
       "      <td>$225.60</td>\n",
       "      <td>2/5/2019</td>\n",
       "      <td>11:51:00 AM</td>\n",
       "      <td>Ewallet</td>\n",
       "      <td>225.60</td>\n",
       "      <td>4.761905</td>\n",
       "      <td>11.2800</td>\n",
       "      <td>4.8</td>\n",
       "    </tr>\n",
       "    <tr>\n",
       "      <th>14</th>\n",
       "      <td>829-34-3910</td>\n",
       "      <td>A</td>\n",
       "      <td>Yangon</td>\n",
       "      <td>Normal</td>\n",
       "      <td>Health and beauty</td>\n",
       "      <td>71.38</td>\n",
       "      <td>10.0</td>\n",
       "      <td>10</td>\n",
       "      <td>35.7%</td>\n",
       "      <td>$713.80</td>\n",
       "      <td>3/29/2019</td>\n",
       "      <td>7:21:00 PM</td>\n",
       "      <td>Cash</td>\n",
       "      <td>713.80</td>\n",
       "      <td>4.761905</td>\n",
       "      <td>35.6900</td>\n",
       "      <td>5.7</td>\n",
       "    </tr>\n",
       "    <tr>\n",
       "      <th>714</th>\n",
       "      <td>735-32-9839</td>\n",
       "      <td>C</td>\n",
       "      <td>Naypyitaw</td>\n",
       "      <td>Customer</td>\n",
       "      <td>Fashion accessories</td>\n",
       "      <td>98.70</td>\n",
       "      <td>8.0</td>\n",
       "      <td>8</td>\n",
       "      <td>39.5%</td>\n",
       "      <td>$789.60</td>\n",
       "      <td>1/31/2019</td>\n",
       "      <td>10:36:00 AM</td>\n",
       "      <td>Ewallet</td>\n",
       "      <td>789.60</td>\n",
       "      <td>4.761905</td>\n",
       "      <td>39.4800</td>\n",
       "      <td>8.5</td>\n",
       "    </tr>\n",
       "    <tr>\n",
       "      <th>318</th>\n",
       "      <td>704-20-4138</td>\n",
       "      <td>C</td>\n",
       "      <td>Naypyitaw</td>\n",
       "      <td>Customer</td>\n",
       "      <td>Health and beauty</td>\n",
       "      <td>29.67</td>\n",
       "      <td>7.0</td>\n",
       "      <td>7</td>\n",
       "      <td>10.4%</td>\n",
       "      <td>$207.69</td>\n",
       "      <td>3/11/2019</td>\n",
       "      <td>6:58:00 PM</td>\n",
       "      <td>Credit card</td>\n",
       "      <td>207.69</td>\n",
       "      <td>4.761905</td>\n",
       "      <td>10.3845</td>\n",
       "      <td>8.1</td>\n",
       "    </tr>\n",
       "    <tr>\n",
       "      <th>826</th>\n",
       "      <td>222-42-0244</td>\n",
       "      <td>B</td>\n",
       "      <td>Mandalay</td>\n",
       "      <td>Customer</td>\n",
       "      <td>Health and beauty</td>\n",
       "      <td>72.11</td>\n",
       "      <td>9.0</td>\n",
       "      <td>9</td>\n",
       "      <td>32.4%</td>\n",
       "      <td>$648.99</td>\n",
       "      <td>1/28/2019</td>\n",
       "      <td>1:53:00 PM</td>\n",
       "      <td>Credit card</td>\n",
       "      <td>648.99</td>\n",
       "      <td>4.761905</td>\n",
       "      <td>32.4495</td>\n",
       "      <td>7.7</td>\n",
       "    </tr>\n",
       "  </tbody>\n",
       "</table>\n",
       "</div>"
      ],
      "text/plain": [
       "      Invoice ID Branch       City Customer type         Product line  \\\n",
       "593  880-35-0356      A     Yangon      Customer    Sports and travel   \n",
       "14   829-34-3910      A     Yangon        Normal    Health and beauty   \n",
       "714  735-32-9839      C  Naypyitaw      Customer  Fashion accessories   \n",
       "318  704-20-4138      C  Naypyitaw      Customer    Health and beauty   \n",
       "826  222-42-0244      B   Mandalay      Customer    Health and beauty   \n",
       "\n",
       "     Unit price  Quantity Review Quantity Tax 5%     Total        Date  \\\n",
       "593       75.20       3.0               3  11.3%   $225.60    2/5/2019   \n",
       "14        71.38      10.0              10  35.7%   $713.80   3/29/2019   \n",
       "714       98.70       8.0               8  39.5%   $789.60   1/31/2019   \n",
       "318       29.67       7.0               7  10.4%   $207.69   3/11/2019   \n",
       "826       72.11       9.0               9  32.4%   $648.99   1/28/2019   \n",
       "\n",
       "            Time      Payment    cogs  gross margin percentage  gross income  \\\n",
       "593  11:51:00 AM      Ewallet  225.60                 4.761905       11.2800   \n",
       "14    7:21:00 PM         Cash  713.80                 4.761905       35.6900   \n",
       "714  10:36:00 AM      Ewallet  789.60                 4.761905       39.4800   \n",
       "318   6:58:00 PM  Credit card  207.69                 4.761905       10.3845   \n",
       "826   1:53:00 PM  Credit card  648.99                 4.761905       32.4495   \n",
       "\n",
       "     Rating  \n",
       "593     4.8  \n",
       "14      5.7  \n",
       "714     8.5  \n",
       "318     8.1  \n",
       "826     7.7  "
      ]
     },
     "execution_count": 15,
     "metadata": {},
     "output_type": "execute_result"
    }
   ],
   "source": [
    "df.sample(5)"
   ]
  },
  {
   "cell_type": "markdown",
   "id": "0532a47a-5a21-459f-a9dc-289d8afbc218",
   "metadata": {},
   "source": [
    "## df.shape is used to know the amount of rows and column available. "
   ]
  },
  {
   "cell_type": "code",
   "execution_count": 16,
   "id": "543b56bc-cc40-4073-8b65-29316296c3a9",
   "metadata": {
    "tags": []
   },
   "outputs": [
    {
     "data": {
      "text/plain": [
       "(998, 17)"
      ]
     },
     "execution_count": 16,
     "metadata": {},
     "output_type": "execute_result"
    }
   ],
   "source": [
    "df.shape"
   ]
  },
  {
   "cell_type": "markdown",
   "id": "50ff2d8b-de9f-4a7b-9742-b50293df0517",
   "metadata": {},
   "source": [
    "## In python we use the print statement to generate an output,using the print statement to known the number of rows and columns as shown below."
   ]
  },
  {
   "cell_type": "code",
   "execution_count": 17,
   "id": "c5fa4d26-3196-4568-b7fd-219f3326b27b",
   "metadata": {
    "tags": []
   },
   "outputs": [
    {
     "name": "stdout",
     "output_type": "stream",
     "text": [
      "The number of Rows in my dataset is: 998 Rows\n",
      "The number of Columns in my dataset is: 17 Columns\n"
     ]
    }
   ],
   "source": [
    "print(\"The number of Rows in my dataset is:\",df.shape[0],\"Rows\")\n",
    "print(\"The number of Columns in my dataset is:\",df.shape[1],\"Columns\")\n"
   ]
  },
  {
   "cell_type": "markdown",
   "id": "ce67baa8-aa5f-49b0-8cc2-86c1831a4fff",
   "metadata": {},
   "source": [
    "## df.info() is used to display the column names. It is used to get an overview of the structure and content of the dataset"
   ]
  },
  {
   "cell_type": "code",
   "execution_count": 53,
   "id": "b142eb36-8958-42ea-951b-a53968338006",
   "metadata": {
    "tags": []
   },
   "outputs": [
    {
     "name": "stdout",
     "output_type": "stream",
     "text": [
      "<class 'pandas.core.frame.DataFrame'>\n",
      "Int64Index: 997 entries, 1 to 999\n",
      "Data columns (total 17 columns):\n",
      " #   Column                   Non-Null Count  Dtype  \n",
      "---  ------                   --------------  -----  \n",
      " 0   Invoice ID               997 non-null    object \n",
      " 1   Branch                   997 non-null    object \n",
      " 2   City                     997 non-null    object \n",
      " 3   Customer type            997 non-null    object \n",
      " 4   Product line             997 non-null    object \n",
      " 5   Unit price               997 non-null    float64\n",
      " 6   Quantity                 997 non-null    float64\n",
      " 7   Review Quantity          997 non-null    object \n",
      " 8   Tax 5%                   997 non-null    object \n",
      " 9    Total                   997 non-null    object \n",
      " 10  Date                     997 non-null    object \n",
      " 11  Time                     997 non-null    object \n",
      " 12  Payment                  997 non-null    object \n",
      " 13  cogs                     997 non-null    float64\n",
      " 14  gross margin percentage  997 non-null    float64\n",
      " 15  gross income             997 non-null    float64\n",
      " 16  Rating                   997 non-null    float64\n",
      "dtypes: float64(6), object(11)\n",
      "memory usage: 140.2+ KB\n"
     ]
    }
   ],
   "source": [
    "df.info()"
   ]
  },
  {
   "cell_type": "markdown",
   "id": "cdfbe190-86f7-46db-9442-a361d356fd02",
   "metadata": {},
   "source": [
    "## df.isnull().sum() ia usd to count the number of missing  values in each column of a dataset."
   ]
  },
  {
   "cell_type": "code",
   "execution_count": 19,
   "id": "9ff4867e-f802-41b8-91af-a33361f09b5d",
   "metadata": {
    "tags": []
   },
   "outputs": [
    {
     "data": {
      "text/plain": [
       "Invoice ID                 0\n",
       "Branch                     0\n",
       "City                       0\n",
       "Customer type              0\n",
       "Product line               0\n",
       "Unit price                 0\n",
       "Quantity                   0\n",
       "Review Quantity            0\n",
       "Tax 5%                     0\n",
       " Total                     0\n",
       "Date                       0\n",
       "Time                       0\n",
       "Payment                    0\n",
       "cogs                       0\n",
       "gross margin percentage    0\n",
       "gross income               0\n",
       "Rating                     0\n",
       "dtype: int64"
      ]
     },
     "execution_count": 19,
     "metadata": {},
     "output_type": "execute_result"
    }
   ],
   "source": [
    "df.isnull().sum()"
   ]
  },
  {
   "cell_type": "markdown",
   "id": "1630eafe-2635-4ed5-8576-4572395acfbe",
   "metadata": {},
   "source": [
    "## df.describe() is used to generate descriptive analysis for numerical columns"
   ]
  },
  {
   "cell_type": "code",
   "execution_count": 20,
   "id": "b58db2d3-3a92-4a27-9f65-78217e3ea06b",
   "metadata": {
    "tags": []
   },
   "outputs": [
    {
     "data": {
      "text/html": [
       "<div>\n",
       "<style scoped>\n",
       "    .dataframe tbody tr th:only-of-type {\n",
       "        vertical-align: middle;\n",
       "    }\n",
       "\n",
       "    .dataframe tbody tr th {\n",
       "        vertical-align: top;\n",
       "    }\n",
       "\n",
       "    .dataframe thead th {\n",
       "        text-align: right;\n",
       "    }\n",
       "</style>\n",
       "<table border=\"1\" class=\"dataframe\">\n",
       "  <thead>\n",
       "    <tr style=\"text-align: right;\">\n",
       "      <th></th>\n",
       "      <th>Unit price</th>\n",
       "      <th>Quantity</th>\n",
       "      <th>cogs</th>\n",
       "      <th>gross margin percentage</th>\n",
       "      <th>gross income</th>\n",
       "      <th>Rating</th>\n",
       "    </tr>\n",
       "  </thead>\n",
       "  <tbody>\n",
       "    <tr>\n",
       "      <th>count</th>\n",
       "      <td>998.000000</td>\n",
       "      <td>998.000000</td>\n",
       "      <td>998.000000</td>\n",
       "      <td>9.980000e+02</td>\n",
       "      <td>998.000000</td>\n",
       "      <td>998.000000</td>\n",
       "    </tr>\n",
       "    <tr>\n",
       "      <th>mean</th>\n",
       "      <td>55.675611</td>\n",
       "      <td>5.511022</td>\n",
       "      <td>307.713978</td>\n",
       "      <td>4.761905e+00</td>\n",
       "      <td>15.385699</td>\n",
       "      <td>6.973347</td>\n",
       "    </tr>\n",
       "    <tr>\n",
       "      <th>std</th>\n",
       "      <td>26.515555</td>\n",
       "      <td>2.924901</td>\n",
       "      <td>234.366846</td>\n",
       "      <td>6.131504e-14</td>\n",
       "      <td>11.718342</td>\n",
       "      <td>1.719914</td>\n",
       "    </tr>\n",
       "    <tr>\n",
       "      <th>min</th>\n",
       "      <td>10.080000</td>\n",
       "      <td>1.000000</td>\n",
       "      <td>10.170000</td>\n",
       "      <td>4.761905e+00</td>\n",
       "      <td>0.508500</td>\n",
       "      <td>4.000000</td>\n",
       "    </tr>\n",
       "    <tr>\n",
       "      <th>25%</th>\n",
       "      <td>32.825000</td>\n",
       "      <td>3.000000</td>\n",
       "      <td>117.292500</td>\n",
       "      <td>4.761905e+00</td>\n",
       "      <td>5.864625</td>\n",
       "      <td>5.500000</td>\n",
       "    </tr>\n",
       "    <tr>\n",
       "      <th>50%</th>\n",
       "      <td>55.420000</td>\n",
       "      <td>5.000000</td>\n",
       "      <td>241.760000</td>\n",
       "      <td>4.761905e+00</td>\n",
       "      <td>12.088000</td>\n",
       "      <td>7.000000</td>\n",
       "    </tr>\n",
       "    <tr>\n",
       "      <th>75%</th>\n",
       "      <td>77.945000</td>\n",
       "      <td>8.000000</td>\n",
       "      <td>449.515000</td>\n",
       "      <td>4.761905e+00</td>\n",
       "      <td>22.475750</td>\n",
       "      <td>8.500000</td>\n",
       "    </tr>\n",
       "    <tr>\n",
       "      <th>max</th>\n",
       "      <td>99.960000</td>\n",
       "      <td>10.000000</td>\n",
       "      <td>993.000000</td>\n",
       "      <td>4.761905e+00</td>\n",
       "      <td>49.650000</td>\n",
       "      <td>10.000000</td>\n",
       "    </tr>\n",
       "  </tbody>\n",
       "</table>\n",
       "</div>"
      ],
      "text/plain": [
       "       Unit price    Quantity        cogs  gross margin percentage  \\\n",
       "count  998.000000  998.000000  998.000000             9.980000e+02   \n",
       "mean    55.675611    5.511022  307.713978             4.761905e+00   \n",
       "std     26.515555    2.924901  234.366846             6.131504e-14   \n",
       "min     10.080000    1.000000   10.170000             4.761905e+00   \n",
       "25%     32.825000    3.000000  117.292500             4.761905e+00   \n",
       "50%     55.420000    5.000000  241.760000             4.761905e+00   \n",
       "75%     77.945000    8.000000  449.515000             4.761905e+00   \n",
       "max     99.960000   10.000000  993.000000             4.761905e+00   \n",
       "\n",
       "       gross income      Rating  \n",
       "count    998.000000  998.000000  \n",
       "mean      15.385699    6.973347  \n",
       "std       11.718342    1.719914  \n",
       "min        0.508500    4.000000  \n",
       "25%        5.864625    5.500000  \n",
       "50%       12.088000    7.000000  \n",
       "75%       22.475750    8.500000  \n",
       "max       49.650000   10.000000  "
      ]
     },
     "execution_count": 20,
     "metadata": {},
     "output_type": "execute_result"
    }
   ],
   "source": [
    "df.describe()"
   ]
  },
  {
   "cell_type": "markdown",
   "id": "f0bab978-df1e-440e-ac10-469cd23545ef",
   "metadata": {},
   "source": [
    "## The code below will categorize columns into num list if they have more than 10 unique values and into cat if the have less than or 10 unique values"
   ]
  },
  {
   "cell_type": "code",
   "execution_count": 21,
   "id": "54de49b5-f2ac-4449-ab8d-a4dfa2aa6f98",
   "metadata": {
    "tags": []
   },
   "outputs": [],
   "source": [
    "num=[]\n",
    "cat=[]\n",
    "for column in df.columns:\n",
    "    if df[column].nunique()>10:\n",
    "        num.append(column)\n",
    "    else:\n",
    "        cat.append(column)\n",
    "    "
   ]
  },
  {
   "cell_type": "markdown",
   "id": "e12eb919-23de-42bd-8f80-38ebcad5d36d",
   "metadata": {},
   "source": [
    "## df.columns is useful for accessing and modifying column names."
   ]
  },
  {
   "cell_type": "code",
   "execution_count": 22,
   "id": "9f61e5b3-50cc-40db-93e7-66fd705e7b90",
   "metadata": {
    "tags": []
   },
   "outputs": [
    {
     "data": {
      "text/plain": [
       "Index(['Invoice ID', 'Branch', 'City', 'Customer type', 'Product line',\n",
       "       'Unit price', 'Quantity', 'Review Quantity', 'Tax 5%', ' Total ',\n",
       "       'Date', 'Time', 'Payment', 'cogs', 'gross margin percentage',\n",
       "       'gross income', 'Rating'],\n",
       "      dtype='object')"
      ]
     },
     "execution_count": 22,
     "metadata": {},
     "output_type": "execute_result"
    }
   ],
   "source": [
    "df.columns"
   ]
  },
  {
   "cell_type": "markdown",
   "id": "a32b9597-c261-4cb9-a663-7f429d629356",
   "metadata": {},
   "source": [
    "## After writing the code,the columns less than 10 or exactly 10 unique values are in the Categorical Column(cat)"
   ]
  },
  {
   "cell_type": "code",
   "execution_count": 23,
   "id": "dc4ed50d-f8b9-4a2c-a9cb-557585818c15",
   "metadata": {
    "tags": []
   },
   "outputs": [
    {
     "data": {
      "text/plain": [
       "['Branch',\n",
       " 'City',\n",
       " 'Customer type',\n",
       " 'Product line',\n",
       " 'Quantity',\n",
       " 'Review Quantity',\n",
       " 'Payment',\n",
       " 'gross margin percentage']"
      ]
     },
     "execution_count": 23,
     "metadata": {},
     "output_type": "execute_result"
    }
   ],
   "source": [
    "cat"
   ]
  },
  {
   "cell_type": "markdown",
   "id": "6017b6b0-6017-41a2-8fd0-967f7849fa4d",
   "metadata": {},
   "source": [
    "## While the other columns with more than 10 unique values are in the Numerical Column(num)"
   ]
  },
  {
   "cell_type": "code",
   "execution_count": 24,
   "id": "26463eb9-548f-488f-8f8e-3196d9bcef7e",
   "metadata": {
    "tags": []
   },
   "outputs": [
    {
     "data": {
      "text/plain": [
       "['Invoice ID',\n",
       " 'Unit price',\n",
       " 'Tax 5%',\n",
       " ' Total ',\n",
       " 'Date',\n",
       " 'Time',\n",
       " 'cogs',\n",
       " 'gross income',\n",
       " 'Rating']"
      ]
     },
     "execution_count": 24,
     "metadata": {},
     "output_type": "execute_result"
    }
   ],
   "source": [
    "num"
   ]
  },
  {
   "cell_type": "markdown",
   "id": "625fecc2-d5ba-4c1c-bacc-c9ed06f4496a",
   "metadata": {},
   "source": [
    "## This comes to the end of data cleaning and processing"
   ]
  },
  {
   "cell_type": "markdown",
   "id": "a3af9457-9c3f-435f-9081-7074ab40c850",
   "metadata": {},
   "source": [
    "# Univariate Analysis"
   ]
  },
  {
   "cell_type": "markdown",
   "id": "c7ea07e2-b5a1-41d9-8ffc-b3bbe071cf55",
   "metadata": {},
   "source": [
    "##### Univariate Analysis is a statistical method used to analyze data when the focus is on analyzing a single variable."
   ]
  },
  {
   "cell_type": "markdown",
   "id": "cf1e5e1d-923b-4f0b-9281-cf79001c8577",
   "metadata": {},
   "source": [
    "## 1. Find Aggregate Sales Among Branches. (Categorical Column)"
   ]
  },
  {
   "cell_type": "markdown",
   "id": "b9b7de4e-afe1-4a75-b21d-555afc75d52c",
   "metadata": {},
   "source": [
    "## The code below filter df to only include rows where the value in the branch column is not an empty string."
   ]
  },
  {
   "cell_type": "code",
   "execution_count": 25,
   "id": "3664268c-98cc-418a-a9b5-0ef8459ba2ab",
   "metadata": {
    "tags": []
   },
   "outputs": [],
   "source": [
    "df = df[df['Branch'] != '']"
   ]
  },
  {
   "cell_type": "markdown",
   "id": "11dba5b4-7214-476b-bce5-8d4fa664c148",
   "metadata": {},
   "source": [
    "## The blank space left behind afte removing R1C1 from df in the beginning of this analysis has been completely removed from the dataset i.e it is no loger a blank space."
   ]
  },
  {
   "cell_type": "code",
   "execution_count": 26,
   "id": "a6d7afe6-f458-422b-9070-2cba1909099f",
   "metadata": {
    "tags": []
   },
   "outputs": [
    {
     "data": {
      "text/plain": [
       "A    338\n",
       "B    331\n",
       "C    328\n",
       "Name: Branch, dtype: int64"
      ]
     },
     "execution_count": 26,
     "metadata": {},
     "output_type": "execute_result"
    }
   ],
   "source": [
    "df['Branch'].value_counts()"
   ]
  },
  {
   "cell_type": "markdown",
   "id": "3973bb21-5179-45d3-8230-cf91109bc1d8",
   "metadata": {},
   "source": [
    "## Here the value count of Branch A is 338 which is the highest,Branch B is 331 and Branch C is 328 which is the lowest."
   ]
  },
  {
   "cell_type": "code",
   "execution_count": 27,
   "id": "f4fe5d1b-3444-4812-b0ef-317002baa445",
   "metadata": {
    "tags": []
   },
   "outputs": [
    {
     "data": {
      "text/plain": [
       "array(['C', 'A', 'B'], dtype=object)"
      ]
     },
     "execution_count": 27,
     "metadata": {},
     "output_type": "execute_result"
    }
   ],
   "source": [
    "df['Branch'].unique()"
   ]
  },
  {
   "cell_type": "markdown",
   "id": "fc07239c-bf2d-422a-8877-cb7bbc6aeda6",
   "metadata": {},
   "source": [
    "## The unique values of the Branch columns are A,B and C."
   ]
  },
  {
   "cell_type": "code",
   "execution_count": 28,
   "id": "8cbf2283-abd6-4530-93b8-23b3cd8b1c0b",
   "metadata": {
    "tags": []
   },
   "outputs": [
    {
     "data": {
      "text/html": [
       "<div>\n",
       "<style scoped>\n",
       "    .dataframe tbody tr th:only-of-type {\n",
       "        vertical-align: middle;\n",
       "    }\n",
       "\n",
       "    .dataframe tbody tr th {\n",
       "        vertical-align: top;\n",
       "    }\n",
       "\n",
       "    .dataframe thead th {\n",
       "        text-align: right;\n",
       "    }\n",
       "</style>\n",
       "<table border=\"1\" class=\"dataframe\">\n",
       "  <thead>\n",
       "    <tr style=\"text-align: right;\">\n",
       "      <th></th>\n",
       "      <th>Invoice ID</th>\n",
       "      <th>Branch</th>\n",
       "      <th>City</th>\n",
       "      <th>Customer type</th>\n",
       "      <th>Product line</th>\n",
       "      <th>Unit price</th>\n",
       "      <th>Quantity</th>\n",
       "      <th>Review Quantity</th>\n",
       "      <th>Tax 5%</th>\n",
       "      <th>Total</th>\n",
       "      <th>Date</th>\n",
       "      <th>Time</th>\n",
       "      <th>Payment</th>\n",
       "      <th>cogs</th>\n",
       "      <th>gross margin percentage</th>\n",
       "      <th>gross income</th>\n",
       "      <th>Rating</th>\n",
       "    </tr>\n",
       "  </thead>\n",
       "  <tbody>\n",
       "    <tr>\n",
       "      <th>1</th>\n",
       "      <td>226-31-3081</td>\n",
       "      <td>C</td>\n",
       "      <td>Naypyitaw</td>\n",
       "      <td>Normal</td>\n",
       "      <td>Electronic \\naccessories</td>\n",
       "      <td>15.28</td>\n",
       "      <td>5.0</td>\n",
       "      <td>5</td>\n",
       "      <td>3.8%</td>\n",
       "      <td>$76.40</td>\n",
       "      <td>3/8/2019</td>\n",
       "      <td>10:29:00 AM</td>\n",
       "      <td>Cash</td>\n",
       "      <td>76.40</td>\n",
       "      <td>4.761905</td>\n",
       "      <td>3.8200</td>\n",
       "      <td>9.6</td>\n",
       "    </tr>\n",
       "    <tr>\n",
       "      <th>3</th>\n",
       "      <td>123-19-1176</td>\n",
       "      <td>A</td>\n",
       "      <td>Yangon</td>\n",
       "      <td>Customer</td>\n",
       "      <td>Health and beauty</td>\n",
       "      <td>58.22</td>\n",
       "      <td>8.0</td>\n",
       "      <td>8</td>\n",
       "      <td>23.3%</td>\n",
       "      <td>$465.76</td>\n",
       "      <td>1/27/2019</td>\n",
       "      <td>8:33:00 PM</td>\n",
       "      <td>Ewallet</td>\n",
       "      <td>465.76</td>\n",
       "      <td>4.761905</td>\n",
       "      <td>23.2880</td>\n",
       "      <td>8.4</td>\n",
       "    </tr>\n",
       "    <tr>\n",
       "      <th>4</th>\n",
       "      <td>373-73-7910</td>\n",
       "      <td>A</td>\n",
       "      <td>Yangon</td>\n",
       "      <td>Normal</td>\n",
       "      <td>Sports and travel</td>\n",
       "      <td>86.31</td>\n",
       "      <td>7.0</td>\n",
       "      <td>7</td>\n",
       "      <td>30.2%</td>\n",
       "      <td>$604.17</td>\n",
       "      <td>2/8/2019</td>\n",
       "      <td>10:37:00 AM</td>\n",
       "      <td>Ewallet</td>\n",
       "      <td>604.17</td>\n",
       "      <td>4.761905</td>\n",
       "      <td>30.2085</td>\n",
       "      <td>5.3</td>\n",
       "    </tr>\n",
       "    <tr>\n",
       "      <th>5</th>\n",
       "      <td>699-14-3026</td>\n",
       "      <td>C</td>\n",
       "      <td>Naypyitaw</td>\n",
       "      <td>Normal</td>\n",
       "      <td>Electronic accessories</td>\n",
       "      <td>85.39</td>\n",
       "      <td>7.0</td>\n",
       "      <td>7</td>\n",
       "      <td>29.9%</td>\n",
       "      <td>$597.73</td>\n",
       "      <td>3/25/2019</td>\n",
       "      <td>6:30:00 PM</td>\n",
       "      <td>Ewallet</td>\n",
       "      <td>597.73</td>\n",
       "      <td>4.761905</td>\n",
       "      <td>29.8865</td>\n",
       "      <td>4.1</td>\n",
       "    </tr>\n",
       "    <tr>\n",
       "      <th>6</th>\n",
       "      <td>355-53-5943</td>\n",
       "      <td>A</td>\n",
       "      <td>Yangon</td>\n",
       "      <td>Customer</td>\n",
       "      <td>Electronic accessories</td>\n",
       "      <td>68.84</td>\n",
       "      <td>6.0</td>\n",
       "      <td>6</td>\n",
       "      <td>20.7%</td>\n",
       "      <td>$413.04</td>\n",
       "      <td>2/25/2019</td>\n",
       "      <td>2:36:00 PM</td>\n",
       "      <td>Ewallet</td>\n",
       "      <td>413.04</td>\n",
       "      <td>4.761905</td>\n",
       "      <td>20.6520</td>\n",
       "      <td>5.8</td>\n",
       "    </tr>\n",
       "    <tr>\n",
       "      <th>...</th>\n",
       "      <td>...</td>\n",
       "      <td>...</td>\n",
       "      <td>...</td>\n",
       "      <td>...</td>\n",
       "      <td>...</td>\n",
       "      <td>...</td>\n",
       "      <td>...</td>\n",
       "      <td>...</td>\n",
       "      <td>...</td>\n",
       "      <td>...</td>\n",
       "      <td>...</td>\n",
       "      <td>...</td>\n",
       "      <td>...</td>\n",
       "      <td>...</td>\n",
       "      <td>...</td>\n",
       "      <td>...</td>\n",
       "      <td>...</td>\n",
       "    </tr>\n",
       "    <tr>\n",
       "      <th>995</th>\n",
       "      <td>233-67-5758</td>\n",
       "      <td>C</td>\n",
       "      <td>Naypyitaw</td>\n",
       "      <td>Normal</td>\n",
       "      <td>Health and beauty</td>\n",
       "      <td>40.35</td>\n",
       "      <td>1.0</td>\n",
       "      <td>1</td>\n",
       "      <td>2.0%</td>\n",
       "      <td>$40.35</td>\n",
       "      <td>1/29/2019</td>\n",
       "      <td>1:46:00 PM</td>\n",
       "      <td>Ewallet</td>\n",
       "      <td>40.35</td>\n",
       "      <td>4.761905</td>\n",
       "      <td>2.0175</td>\n",
       "      <td>6.2</td>\n",
       "    </tr>\n",
       "    <tr>\n",
       "      <th>996</th>\n",
       "      <td>303-96-2227</td>\n",
       "      <td>B</td>\n",
       "      <td>Mandalay</td>\n",
       "      <td>Normal</td>\n",
       "      <td>Home and lifestyle</td>\n",
       "      <td>97.38</td>\n",
       "      <td>10.0</td>\n",
       "      <td>10</td>\n",
       "      <td>48.7%</td>\n",
       "      <td>$973.80</td>\n",
       "      <td>3/2/2019</td>\n",
       "      <td>5:16:00 PM</td>\n",
       "      <td>Ewallet</td>\n",
       "      <td>973.80</td>\n",
       "      <td>4.761905</td>\n",
       "      <td>48.6900</td>\n",
       "      <td>4.4</td>\n",
       "    </tr>\n",
       "    <tr>\n",
       "      <th>997</th>\n",
       "      <td>727-02-1313</td>\n",
       "      <td>A</td>\n",
       "      <td>Yangon</td>\n",
       "      <td>Customer</td>\n",
       "      <td>Food and beverages</td>\n",
       "      <td>31.84</td>\n",
       "      <td>1.0</td>\n",
       "      <td>1</td>\n",
       "      <td>1.6%</td>\n",
       "      <td>$31.84</td>\n",
       "      <td>2/9/2019</td>\n",
       "      <td>1:22:00 PM</td>\n",
       "      <td>Cash</td>\n",
       "      <td>31.84</td>\n",
       "      <td>4.761905</td>\n",
       "      <td>1.5920</td>\n",
       "      <td>7.7</td>\n",
       "    </tr>\n",
       "    <tr>\n",
       "      <th>998</th>\n",
       "      <td>347-56-2442</td>\n",
       "      <td>A</td>\n",
       "      <td>Yangon</td>\n",
       "      <td>Normal</td>\n",
       "      <td>Home and lifestyle</td>\n",
       "      <td>65.82</td>\n",
       "      <td>1.0</td>\n",
       "      <td>1</td>\n",
       "      <td>3.3%</td>\n",
       "      <td>$65.82</td>\n",
       "      <td>2/22/2019</td>\n",
       "      <td>3:33:00 PM</td>\n",
       "      <td>Cash</td>\n",
       "      <td>65.82</td>\n",
       "      <td>4.761905</td>\n",
       "      <td>3.2910</td>\n",
       "      <td>4.1</td>\n",
       "    </tr>\n",
       "    <tr>\n",
       "      <th>999</th>\n",
       "      <td>849-09-3807</td>\n",
       "      <td>A</td>\n",
       "      <td>Yangon</td>\n",
       "      <td>Customer</td>\n",
       "      <td>Fashion accessories</td>\n",
       "      <td>88.34</td>\n",
       "      <td>7.0</td>\n",
       "      <td>7</td>\n",
       "      <td>30.9%</td>\n",
       "      <td>$618.38</td>\n",
       "      <td>2/18/2019</td>\n",
       "      <td>1:28:00 PM</td>\n",
       "      <td>Cash</td>\n",
       "      <td>618.38</td>\n",
       "      <td>4.761905</td>\n",
       "      <td>30.9190</td>\n",
       "      <td>6.6</td>\n",
       "    </tr>\n",
       "  </tbody>\n",
       "</table>\n",
       "<p>997 rows × 17 columns</p>\n",
       "</div>"
      ],
      "text/plain": [
       "      Invoice ID Branch       City Customer type              Product line  \\\n",
       "1    226-31-3081      C  Naypyitaw        Normal  Electronic \\naccessories   \n",
       "3    123-19-1176      A     Yangon      Customer         Health and beauty   \n",
       "4    373-73-7910      A     Yangon        Normal         Sports and travel   \n",
       "5    699-14-3026      C  Naypyitaw        Normal    Electronic accessories   \n",
       "6    355-53-5943      A     Yangon      Customer    Electronic accessories   \n",
       "..           ...    ...        ...           ...                       ...   \n",
       "995  233-67-5758      C  Naypyitaw        Normal         Health and beauty   \n",
       "996  303-96-2227      B   Mandalay        Normal        Home and lifestyle   \n",
       "997  727-02-1313      A     Yangon      Customer        Food and beverages   \n",
       "998  347-56-2442      A     Yangon        Normal        Home and lifestyle   \n",
       "999  849-09-3807      A     Yangon      Customer       Fashion accessories   \n",
       "\n",
       "     Unit price  Quantity Review Quantity Tax 5%     Total        Date  \\\n",
       "1         15.28       5.0               5   3.8%    $76.40    3/8/2019   \n",
       "3         58.22       8.0               8  23.3%   $465.76   1/27/2019   \n",
       "4         86.31       7.0               7  30.2%   $604.17    2/8/2019   \n",
       "5         85.39       7.0               7  29.9%   $597.73   3/25/2019   \n",
       "6         68.84       6.0               6  20.7%   $413.04   2/25/2019   \n",
       "..          ...       ...             ...    ...        ...        ...   \n",
       "995       40.35       1.0               1   2.0%    $40.35   1/29/2019   \n",
       "996       97.38      10.0              10  48.7%   $973.80    3/2/2019   \n",
       "997       31.84       1.0               1   1.6%    $31.84    2/9/2019   \n",
       "998       65.82       1.0               1   3.3%    $65.82   2/22/2019   \n",
       "999       88.34       7.0               7  30.9%   $618.38   2/18/2019   \n",
       "\n",
       "            Time  Payment    cogs  gross margin percentage  gross income  \\\n",
       "1    10:29:00 AM     Cash   76.40                 4.761905        3.8200   \n",
       "3     8:33:00 PM  Ewallet  465.76                 4.761905       23.2880   \n",
       "4    10:37:00 AM  Ewallet  604.17                 4.761905       30.2085   \n",
       "5     6:30:00 PM  Ewallet  597.73                 4.761905       29.8865   \n",
       "6     2:36:00 PM  Ewallet  413.04                 4.761905       20.6520   \n",
       "..           ...      ...     ...                      ...           ...   \n",
       "995   1:46:00 PM  Ewallet   40.35                 4.761905        2.0175   \n",
       "996   5:16:00 PM  Ewallet  973.80                 4.761905       48.6900   \n",
       "997   1:22:00 PM     Cash   31.84                 4.761905        1.5920   \n",
       "998   3:33:00 PM     Cash   65.82                 4.761905        3.2910   \n",
       "999   1:28:00 PM     Cash  618.38                 4.761905       30.9190   \n",
       "\n",
       "     Rating  \n",
       "1       9.6  \n",
       "3       8.4  \n",
       "4       5.3  \n",
       "5       4.1  \n",
       "6       5.8  \n",
       "..      ...  \n",
       "995     6.2  \n",
       "996     4.4  \n",
       "997     7.7  \n",
       "998     4.1  \n",
       "999     6.6  \n",
       "\n",
       "[997 rows x 17 columns]"
      ]
     },
     "execution_count": 28,
     "metadata": {},
     "output_type": "execute_result"
    }
   ],
   "source": [
    "df"
   ]
  },
  {
   "cell_type": "markdown",
   "id": "8ca2453d-2374-41b9-9889-44f0d287aa9c",
   "metadata": {},
   "source": [
    "## Below is a barchart using the branch column of the dataset, this is a colorful representaion of the dataset,where Branch A is being represented by red,Branch B is being represented by blue and Branch C is being represented by green"
   ]
  },
  {
   "cell_type": "code",
   "execution_count": 29,
   "id": "d137985f-ae3b-47d0-abe0-05b752c099c5",
   "metadata": {
    "tags": []
   },
   "outputs": [
    {
     "data": {
      "text/plain": [
       "<Axes: ylabel='Branch'>"
      ]
     },
     "execution_count": 29,
     "metadata": {},
     "output_type": "execute_result"
    },
    {
     "data": {
      "image/png": "[encoded data removed]",
      "text/plain": [
       "<Figure size 640x480 with 1 Axes>"
      ]
     },
     "metadata": {},
     "output_type": "display_data"
    }
   ],
   "source": [
    "\n",
    "sns.barplot(x=df['Branch'].value_counts().index, y=df['Branch'].value_counts(), palette='Set1')\n"
   ]
  },
  {
   "cell_type": "markdown",
   "id": "200a6470-4df5-41ae-95f3-86c38d025267",
   "metadata": {},
   "source": [
    "## This is a piechart representaion of the branch column in percentage in which the percentage of Branch A is 33.90% represented by the color blue, the percentage of Branch B is 33.20% represented by the color orange and the percentage of the Branch C is 32.90% represented by the color green."
   ]
  },
  {
   "cell_type": "code",
   "execution_count": 30,
   "id": "0bf94c83-3eab-4a20-ae5e-0ad5bf30b32f",
   "metadata": {
    "tags": []
   },
   "outputs": [
    {
     "data": {
      "text/plain": [
       "<Axes: ylabel='Branch'>"
      ]
     },
     "execution_count": 30,
     "metadata": {},
     "output_type": "execute_result"
    },
    {
     "data": {
      "image/png": "[encoded data removed]",
      "text/plain": [
       "<Figure size 640x480 with 1 Axes>"
      ]
     },
     "metadata": {},
     "output_type": "display_data"
    }
   ],
   "source": [
    "df['Branch'].value_counts().plot(kind=\"pie\",autopct=\"%1.2f%%\")"
   ]
  },
  {
   "cell_type": "markdown",
   "id": "22ace86e-2176-4e7a-ae06-85a022af07ca",
   "metadata": {},
   "source": [
    "# 2.Find The Most Popular Payment Method Used By Customers (Categorical Column)"
   ]
  },
  {
   "cell_type": "markdown",
   "id": "78af177b-cbaa-48e5-8f48-1d030b1baefd",
   "metadata": {},
   "source": [
    "## The code below generates a bar plot visualizing the frequent occurence of differnt values in the payment column. The cash and ewallet are the most popular payment method while the credit card is the least favorite method."
   ]
  },
  {
   "cell_type": "code",
   "execution_count": 31,
   "id": "4231f810-a6a2-43d1-a854-63ed6c73977d",
   "metadata": {
    "tags": []
   },
   "outputs": [
    {
     "data": {
      "text/plain": [
       "<Axes: >"
      ]
     },
     "execution_count": 31,
     "metadata": {},
     "output_type": "execute_result"
    },
    {
     "data": {
      "image/png": "[encoded data removed]",
      "text/plain": [
       "<Figure size 640x480 with 1 Axes>"
      ]
     },
     "metadata": {},
     "output_type": "display_data"
    }
   ],
   "source": [
    "df['Payment'].value_counts().plot(kind=\"bar\")"
   ]
  },
  {
   "cell_type": "markdown",
   "id": "4e21e6a5-e282-4ca5-828a-c841fc2e4b7e",
   "metadata": {},
   "source": [
    "## This code generate a piechart to show the reoccurence of a payment method in percentage. In this case both the cash and ewallet are 34.50% represented by blue and orange color repectively while the credit card payment method is 30.99% represented by green color."
   ]
  },
  {
   "cell_type": "code",
   "execution_count": 32,
   "id": "475db486-c32f-43fa-a712-ae49168b8594",
   "metadata": {
    "tags": []
   },
   "outputs": [
    {
     "data": {
      "text/plain": [
       "<Axes: ylabel='Payment'>"
      ]
     },
     "execution_count": 32,
     "metadata": {},
     "output_type": "execute_result"
    },
    {
     "data": {
      "image/png": "[encoded data removed]",
      "text/plain": [
       "<Figure size 640x480 with 1 Axes>"
      ]
     },
     "metadata": {},
     "output_type": "display_data"
    }
   ],
   "source": [
    "df['Payment'].value_counts().plot(kind=\"pie\",autopct=\"%1.2f%%\")"
   ]
  },
  {
   "cell_type": "code",
   "execution_count": 33,
   "id": "b185ca11-d132-459d-8af3-c8481366245b",
   "metadata": {
    "tags": []
   },
   "outputs": [
    {
     "data": {
      "text/plain": [
       "Cash           344\n",
       "Ewallet        344\n",
       "Credit card    309\n",
       "Name: Payment, dtype: int64"
      ]
     },
     "execution_count": 33,
     "metadata": {},
     "output_type": "execute_result"
    }
   ],
   "source": [
    "df['Payment'].value_counts()"
   ]
  },
  {
   "cell_type": "markdown",
   "id": "589430d3-d6ce-436b-8e0a-dd5787c1771d",
   "metadata": {},
   "source": [
    "## The value count of the cash payment method is 344, ewallet payment method is 344 and the credit card payment method is 309."
   ]
  },
  {
   "cell_type": "markdown",
   "id": "30fc1a4e-cc25-47bd-b899-ea554597356c",
   "metadata": {},
   "source": [
    "# 3. Find The Distribution of Customer Ratings. (Numerical Column)"
   ]
  },
  {
   "cell_type": "markdown",
   "id": "875359ff-d333-4ae0-b90d-391f5d6ef9ad",
   "metadata": {},
   "source": [
    "## This code is a way to visualize the distribution of ratings in the dataset seaborn. It provides insights into the distribution of values in the 'Rating' column. The histogram shows the frequency of the ratings within different value ranges and the curve provides a smoothed estimate of the probability function of the ratings."
   ]
  },
  {
   "cell_type": "code",
   "execution_count": 34,
   "id": "ffde81d7-81a5-47d3-a329-bc00a13719a0",
   "metadata": {
    "tags": []
   },
   "outputs": [
    {
     "name": "stderr",
     "output_type": "stream",
     "text": [
      "C:\\Users\\USER\\AppData\\Local\\Temp\\ipykernel_17988\\2236393808.py:1: UserWarning: \n",
      "\n",
      "`distplot` is a deprecated function and will be removed in seaborn v0.14.0.\n",
      "\n",
      "Please adapt your code to use either `displot` (a figure-level function with\n",
      "similar flexibility) or `histplot` (an axes-level function for histograms).\n",
      "\n",
      "For a guide to updating your code to use the new functions, please see\n",
      "https://gist.github.com/mwaskom/de44147ed2974457ad6372750bbe5751\n",
      "\n",
      "  sns.distplot(df['Rating'])\n"
     ]
    },
    {
     "data": {
      "text/plain": [
       "<Axes: xlabel='Rating', ylabel='Density'>"
      ]
     },
     "execution_count": 34,
     "metadata": {},
     "output_type": "execute_result"
    },
    {
     "data": {
      "image/png": "[encoded data removed]",
      "text/plain": [
       "<Figure size 640x480 with 1 Axes>"
      ]
     },
     "metadata": {},
     "output_type": "display_data"
    }
   ],
   "source": [
    "sns.distplot(df['Rating'])\n"
   ]
  },
  {
   "cell_type": "markdown",
   "id": "b79848b1-68b9-4bf6-b672-99ed48309da1",
   "metadata": {},
   "source": [
    "# 4. Find the Distribution of Cost of Goods Sold (Numerical Column)"
   ]
  },
  {
   "cell_type": "markdown",
   "id": "90803f3a-1bda-459b-bfa1-778d206eee4d",
   "metadata": {},
   "source": [
    "## Using seaborn(sns) to create a distribution plot for the 'cogs' column in the dataset. The histogram displays the frequency of different cost values while the curve provides a smooth estimate of the probability density function of the cost."
   ]
  },
  {
   "cell_type": "code",
   "execution_count": 35,
   "id": "50d9a9b8-8273-47b2-b793-c1c7a590534b",
   "metadata": {
    "tags": []
   },
   "outputs": [
    {
     "name": "stderr",
     "output_type": "stream",
     "text": [
      "C:\\Users\\USER\\AppData\\Local\\Temp\\ipykernel_17988\\4235045639.py:1: UserWarning: \n",
      "\n",
      "`distplot` is a deprecated function and will be removed in seaborn v0.14.0.\n",
      "\n",
      "Please adapt your code to use either `displot` (a figure-level function with\n",
      "similar flexibility) or `histplot` (an axes-level function for histograms).\n",
      "\n",
      "For a guide to updating your code to use the new functions, please see\n",
      "https://gist.github.com/mwaskom/de44147ed2974457ad6372750bbe5751\n",
      "\n",
      "  sns.distplot(df['cogs'])\n"
     ]
    },
    {
     "data": {
      "text/plain": [
       "<Axes: xlabel='cogs', ylabel='Density'>"
      ]
     },
     "execution_count": 35,
     "metadata": {},
     "output_type": "execute_result"
    },
    {
     "data": {
      "image/png": "[encoded data removed]",
      "text/plain": [
       "<Figure size 640x480 with 1 Axes>"
      ]
     },
     "metadata": {},
     "output_type": "display_data"
    }
   ],
   "source": [
    "sns.distplot(df['cogs'])"
   ]
  },
  {
   "cell_type": "markdown",
   "id": "ec649859-e0aa-4140-bfa6-f5b635830f8a",
   "metadata": {},
   "source": [
    "## This is a boxplot. It displays the distribution of data based on the minimum,first quartile,median,third quartile and maximum.It helps to identify outliers(rare cases).\n"
   ]
  },
  {
   "cell_type": "code",
   "execution_count": 36,
   "id": "5c9c7ead-bfd5-4b6a-92e5-2af1b11a6d0f",
   "metadata": {
    "tags": []
   },
   "outputs": [
    {
     "data": {
      "text/plain": [
       "<Axes: xlabel='cogs'>"
      ]
     },
     "execution_count": 36,
     "metadata": {},
     "output_type": "execute_result"
    },
    {
     "data": {
      "image/png": "[encoded data removed]",
      "text/plain": [
       "<Figure size 640x480 with 1 Axes>"
      ]
     },
     "metadata": {},
     "output_type": "display_data"
    }
   ],
   "source": [
    "sns.boxplot(x=df['cogs'])\n"
   ]
  },
  {
   "cell_type": "markdown",
   "id": "f780df06-cf2f-4163-af56-88830d1ff23e",
   "metadata": {},
   "source": [
    "# Bivariate Analysis / Multivariate Analysis"
   ]
  },
  {
   "cell_type": "markdown",
   "id": "68c00d81-d2c9-4a1b-b143-05d713c10802",
   "metadata": {},
   "source": [
    "## Bivariate Analysis involves analzing the relationship bettween two variabls,often to determine how changes in one variable correlate with changes in another. Multivariate Analysis expends on bivariate analysis by cinsidering the relationships between multiple variables simultaneously."
   ]
  },
  {
   "cell_type": "markdown",
   "id": "4d58995d-d681-4784-97d3-fcfc7c11c0a8",
   "metadata": {},
   "source": [
    "# 1. Does The Cost of Goods Sold Affect The Ratings That The Customers Provide? (Numerical - Numerical)"
   ]
  },
  {
   "cell_type": "markdown",
   "id": "cf412a1d-2a50-44b2-89f1-280ae7f7674f",
   "metadata": {},
   "source": [
    "## Categorical variables represents characteristics and their values typically belong to a finite set of categories While Numerical variables are measurable quantities and can take on numerical values"
   ]
  },
  {
   "cell_type": "code",
   "execution_count": 37,
   "id": "865a8979-e646-49b3-9b3f-9e4347067768",
   "metadata": {
    "tags": []
   },
   "outputs": [
    {
     "data": {
      "text/plain": [
       "['Branch',\n",
       " 'City',\n",
       " 'Customer type',\n",
       " 'Product line',\n",
       " 'Quantity',\n",
       " 'Review Quantity',\n",
       " 'Payment',\n",
       " 'gross margin percentage']"
      ]
     },
     "execution_count": 37,
     "metadata": {},
     "output_type": "execute_result"
    }
   ],
   "source": [
    "cat"
   ]
  },
  {
   "cell_type": "code",
   "execution_count": 38,
   "id": "caf19a36-c180-4748-89a5-903a9935e1e6",
   "metadata": {
    "tags": []
   },
   "outputs": [
    {
     "data": {
      "text/plain": [
       "['Invoice ID',\n",
       " 'Unit price',\n",
       " 'Tax 5%',\n",
       " ' Total ',\n",
       " 'Date',\n",
       " 'Time',\n",
       " 'cogs',\n",
       " 'gross income',\n",
       " 'Rating']"
      ]
     },
     "execution_count": 38,
     "metadata": {},
     "output_type": "execute_result"
    }
   ],
   "source": [
    "num"
   ]
  },
  {
   "cell_type": "markdown",
   "id": "d04f87fa-da02-4fb4-bc2f-681eddabe020",
   "metadata": {},
   "source": [
    "## Using cogs on the x-axis and rating on the y-axis,this is a scatterplot using both cogs and rating. The points thatbare scattered randomly are weak or have no correlation while if there is a clear positive or negative slope,it suggests a correlation between two variable."
   ]
  },
  {
   "cell_type": "code",
   "execution_count": 39,
   "id": "7b144c33-1a70-4d49-9d3f-2672cddf6657",
   "metadata": {
    "tags": []
   },
   "outputs": [
    {
     "data": {
      "text/plain": [
       "<Axes: xlabel='cogs', ylabel='Rating'>"
      ]
     },
     "execution_count": 39,
     "metadata": {},
     "output_type": "execute_result"
    },
    {
     "data": {
      "image/png": "[encoded data removed]",
      "text/plain": [
       "<Figure size 640x480 with 1 Axes>"
      ]
     },
     "metadata": {},
     "output_type": "display_data"
    }
   ],
   "source": [
    "sns.scatterplot(x=df['cogs'], y=df['Rating'])"
   ]
  },
  {
   "cell_type": "markdown",
   "id": "ef218453-23dc-4ed3-95a3-02a2490ea2df",
   "metadata": {},
   "source": [
    "# 2. Does Gross Income Affect The Ratings That The Customers Provide? (Numerical - Numerical)\n"
   ]
  },
  {
   "cell_type": "markdown",
   "id": "414d6fbd-69bf-4997-9d77-5c08541abb14",
   "metadata": {},
   "source": [
    "## Ploting a scatterplot using gross income on the x-axis and rating on the y-axis. The part on the plot where it is most clustered represent the relationship between the two variables whereas the spot randomly scattered has no correlation"
   ]
  },
  {
   "cell_type": "code",
   "execution_count": 40,
   "id": "a69401b2-df1f-4ce5-bcd4-807b213364c0",
   "metadata": {
    "tags": []
   },
   "outputs": [
    {
     "data": {
      "text/plain": [
       "<Axes: xlabel='gross income', ylabel='Rating'>"
      ]
     },
     "execution_count": 40,
     "metadata": {},
     "output_type": "execute_result"
    },
    {
     "data": {
      "image/png": "[encoded data removed]",
      "text/plain": [
       "<Figure size 640x480 with 1 Axes>"
      ]
     },
     "metadata": {},
     "output_type": "display_data"
    }
   ],
   "source": [
    "sns.scatterplot(x=df['gross income'], y=df['Rating'])\n",
    "\n"
   ]
  },
  {
   "cell_type": "markdown",
   "id": "9278d6f4-67bd-438e-bc86-a63e63313f0f",
   "metadata": {
    "tags": []
   },
   "source": [
    "# 3. Find The Most Profitable Branch As Per Gross Income. (Numerical - Categorical)"
   ]
  },
  {
   "cell_type": "markdown",
   "id": "4435425d-34bf-41b6-96c3-fd00a1913cf4",
   "metadata": {
    "tags": []
   },
   "source": [
    "## The columns with less than 10 or 10 uniques values"
   ]
  },
  {
   "cell_type": "code",
   "execution_count": 41,
   "id": "242cfb87-7deb-40c0-8b4e-668cfb0b000c",
   "metadata": {
    "tags": []
   },
   "outputs": [
    {
     "data": {
      "text/plain": [
       "['Branch',\n",
       " 'City',\n",
       " 'Customer type',\n",
       " 'Product line',\n",
       " 'Quantity',\n",
       " 'Review Quantity',\n",
       " 'Payment',\n",
       " 'gross margin percentage']"
      ]
     },
     "execution_count": 41,
     "metadata": {},
     "output_type": "execute_result"
    }
   ],
   "source": [
    "cat"
   ]
  },
  {
   "cell_type": "markdown",
   "id": "88cba5a7-b939-443a-a731-f6e36502e689",
   "metadata": {},
   "source": [
    "## The columns with more than 10 unique values"
   ]
  },
  {
   "cell_type": "code",
   "execution_count": 42,
   "id": "0ee32531-1027-4068-84fd-1b3223b29909",
   "metadata": {
    "tags": []
   },
   "outputs": [
    {
     "data": {
      "text/plain": [
       "['Invoice ID',\n",
       " 'Unit price',\n",
       " 'Tax 5%',\n",
       " ' Total ',\n",
       " 'Date',\n",
       " 'Time',\n",
       " 'cogs',\n",
       " 'gross income',\n",
       " 'Rating']"
      ]
     },
     "execution_count": 42,
     "metadata": {},
     "output_type": "execute_result"
    }
   ],
   "source": [
    "num"
   ]
  },
  {
   "cell_type": "markdown",
   "id": "2b434c43-9ec0-42c7-878d-37b464aea1b0",
   "metadata": {},
   "source": [
    "## With Branch on the x-axis and Gross income on the y-axis,this ia a barchart showing the most profitable branch in numerical-categorical. The Branches A,B,C are represented by the color blue,green and red repectively."
   ]
  },
  {
   "cell_type": "code",
   "execution_count": 43,
   "id": "d7a91dc0-3075-4591-b2de-b87369bde8e1",
   "metadata": {
    "tags": []
   },
   "outputs": [
    {
     "data": {
      "text/plain": [
       "<Axes: xlabel='Branch', ylabel='gross income'>"
      ]
     },
     "execution_count": 43,
     "metadata": {},
     "output_type": "execute_result"
    },
    {
     "data": {
      "image/png": "[encoded data removed]",
      "text/plain": [
       "<Figure size 640x480 with 1 Axes>"
      ]
     },
     "metadata": {},
     "output_type": "display_data"
    }
   ],
   "source": [
    "sns.barplot(x=df['Branch'], y=df['gross income'], palette='Set1')"
   ]
  },
  {
   "cell_type": "markdown",
   "id": "0cc42b15-9a90-42b2-a0a7-503e98d9bec5",
   "metadata": {},
   "source": [
    "## Using hue=['city'] in the code below, it will create a barchart where each bar is segmented by the city variable. In the barchart below,there is a small segment which shows the city and the colors that represent each one."
   ]
  },
  {
   "cell_type": "code",
   "execution_count": 44,
   "id": "86a33e13-ff97-4b83-8b5b-0ab73c9e065a",
   "metadata": {
    "tags": []
   },
   "outputs": [
    {
     "data": {
      "text/plain": [
       "<Axes: xlabel='Branch', ylabel='gross income'>"
      ]
     },
     "execution_count": 44,
     "metadata": {},
     "output_type": "execute_result"
    },
    {
     "data": {
      "image/png": "[encoded data removed]",
      "text/plain": [
       "<Figure size 640x480 with 1 Axes>"
      ]
     },
     "metadata": {},
     "output_type": "display_data"
    }
   ],
   "source": [
    "sns.barplot(x=df['Branch'], y=df['gross income'], hue=df['City'], palette='Set1')"
   ]
  },
  {
   "cell_type": "markdown",
   "id": "29203e7d-d6f2-4ea0-b6bd-6f2b873073ca",
   "metadata": {},
   "source": [
    "# 4. Is There Any Relationship Gross Income? (Numerical - Categorical)"
   ]
  },
  {
   "cell_type": "markdown",
   "id": "9d159d07-78bf-4fde-ad4a-d724ffbb3538",
   "metadata": {},
   "source": [
    "## sns.boxplot(x=df['gross income']) will create a boxplot where gross income values ae plotted on the x-axis. The boxplot will display the distribution of the gross income values,including the median,quartiles and any outliers"
   ]
  },
  {
   "cell_type": "code",
   "execution_count": 45,
   "id": "0ad9fec4-6c5c-4c3e-bd44-0cb06c564d9b",
   "metadata": {
    "tags": []
   },
   "outputs": [
    {
     "data": {
      "text/plain": [
       "<Axes: xlabel='gross income'>"
      ]
     },
     "execution_count": 45,
     "metadata": {},
     "output_type": "execute_result"
    },
    {
     "data": {
      "image/png": "[encoded data removed]",
      "text/plain": [
       "<Figure size 640x480 with 1 Axes>"
      ]
     },
     "metadata": {},
     "output_type": "display_data"
    }
   ],
   "source": [
    "sns.boxplot(x=df['gross income'])"
   ]
  },
  {
   "cell_type": "markdown",
   "id": "e1e8fa87-12a1-4399-a5dc-d9033df3152d",
   "metadata": {},
   "source": [
    "## sns.boxplot(x=df['gross income'], hue=df['Customer type']) creates a boxplot where on the x-axis is the gross income and the boxes are split based on customer type. It helps in comparing the distribution of gross income between different customer types"
   ]
  },
  {
   "cell_type": "code",
   "execution_count": 46,
   "id": "447e2129-df9f-4d69-97b3-44b9fdb433ff",
   "metadata": {
    "tags": []
   },
   "outputs": [
    {
     "data": {
      "text/plain": [
       "<Axes: xlabel='gross income'>"
      ]
     },
     "execution_count": 46,
     "metadata": {},
     "output_type": "execute_result"
    },
    {
     "data": {
      "image/png": "[encoded data removed]",
      "text/plain": [
       "<Figure size 640x480 with 1 Axes>"
      ]
     },
     "metadata": {},
     "output_type": "display_data"
    }
   ],
   "source": [
    "sns.boxplot(x=df['gross income'], hue=df['Customer type'])"
   ]
  },
  {
   "cell_type": "markdown",
   "id": "1cd41c73-9a38-4808-bccd-5bf3e7a207a5",
   "metadata": {},
   "source": [
    "# 5. Find The Product Line That Generates The Most Income. (Numerical - Categorical)"
   ]
  },
  {
   "cell_type": "markdown",
   "id": "f5858bdd-ed1e-4584-8118-67dbb3c94e22",
   "metadata": {},
   "source": [
    "## df.colums is used to access the column labels of a dataset in pandas"
   ]
  },
  {
   "cell_type": "code",
   "execution_count": 47,
   "id": "37ab1366-ddd4-4e03-9c84-5a4eab082c91",
   "metadata": {
    "tags": []
   },
   "outputs": [
    {
     "data": {
      "text/plain": [
       "Index(['Invoice ID', 'Branch', 'City', 'Customer type', 'Product line',\n",
       "       'Unit price', 'Quantity', 'Review Quantity', 'Tax 5%', ' Total ',\n",
       "       'Date', 'Time', 'Payment', 'cogs', 'gross margin percentage',\n",
       "       'gross income', 'Rating'],\n",
       "      dtype='object')"
      ]
     },
     "execution_count": 47,
     "metadata": {},
     "output_type": "execute_result"
    }
   ],
   "source": [
    "df.columns"
   ]
  },
  {
   "cell_type": "markdown",
   "id": "824af589-19ab-4935-988f-9896d35aa072",
   "metadata": {},
   "source": [
    "## sns.barplot(x=df['Product line'],y=df['gross income'])plt.xticks(rotation=80)plt.show() will generate a bar plot showing the gross income for each product line,with the product line on the x-axis and gross income on the y-axis,it rotates the x-axis labels by 80 degrees for better readability"
   ]
  },
  {
   "cell_type": "code",
   "execution_count": 48,
   "id": "e0abe5b2-231d-49f3-9c3a-1766e835bad4",
   "metadata": {
    "tags": []
   },
   "outputs": [
    {
     "data": {
      "image/png": "[encoded data removed]",
      "text/plain": [
       "<Figure size 640x480 with 1 Axes>"
      ]
     },
     "metadata": {},
     "output_type": "display_data"
    }
   ],
   "source": [
    "sns.barplot(x=df['Product line'],y=df['gross income'])\n",
    "plt.xticks(rotation=80)\n",
    "plt.show()"
   ]
  },
  {
   "cell_type": "markdown",
   "id": "2cbba87b-bc1b-4ece-8d58-6f73a1c59488",
   "metadata": {},
   "source": [
    "# 6. Find The Highest Unit Price In The Product Line. (Numerical - Categorical)"
   ]
  },
  {
   "cell_type": "markdown",
   "id": "ecce2209-c24c-42b6-8dac-2fe2ab92ecf7",
   "metadata": {},
   "source": [
    "## sns.barplot(x=df['Product line'],y=df['Unit price'])plt.xticks(rotation=80)plt.show() will create a barplot with product line on the x-axis and the unit price on the y-axis using seaborn. Then rotates the x-axis labelsby 80 degrees for better readability and displays the plot."
   ]
  },
  {
   "cell_type": "code",
   "execution_count": 49,
   "id": "2b371af2-9fab-4d43-ba81-114299199f60",
   "metadata": {
    "tags": []
   },
   "outputs": [
    {
     "data": {
      "image/png": "[encoded data removed]",
      "text/plain": [
       "<Figure size 640x480 with 1 Axes>"
      ]
     },
     "metadata": {},
     "output_type": "display_data"
    }
   ],
   "source": [
    "sns.barplot(x=df['Product line'],y=df['Unit price'])\n",
    "plt.xticks(rotation=80)\n",
    "plt.show()"
   ]
  },
  {
   "cell_type": "markdown",
   "id": "78caf291-94cf-441f-a981-ca4dc2446376",
   "metadata": {},
   "source": [
    "# 7. Find Different Payment Methods Used By Customers Citywise.(Categorical -Categorical)"
   ]
  },
  {
   "cell_type": "markdown",
   "id": "ac40702f-cfdd-4ab4-9d64-6abff6bef746",
   "metadata": {},
   "source": [
    "## pd.crosstab(df['City'],df['Payment']) will produce a table where rows represent different cities,columns represent different paying method and the values represent count of transactions for eachcombination of city and payment method."
   ]
  },
  {
   "cell_type": "code",
   "execution_count": 50,
   "id": "e44d0988-a3f4-4973-8ff0-7808f869fa36",
   "metadata": {
    "tags": []
   },
   "outputs": [
    {
     "data": {
      "text/html": [
       "<div>\n",
       "<style scoped>\n",
       "    .dataframe tbody tr th:only-of-type {\n",
       "        vertical-align: middle;\n",
       "    }\n",
       "\n",
       "    .dataframe tbody tr th {\n",
       "        vertical-align: top;\n",
       "    }\n",
       "\n",
       "    .dataframe thead th {\n",
       "        text-align: right;\n",
       "    }\n",
       "</style>\n",
       "<table border=\"1\" class=\"dataframe\">\n",
       "  <thead>\n",
       "    <tr style=\"text-align: right;\">\n",
       "      <th>Payment</th>\n",
       "      <th>Cash</th>\n",
       "      <th>Credit card</th>\n",
       "      <th>Ewallet</th>\n",
       "    </tr>\n",
       "    <tr>\n",
       "      <th>City</th>\n",
       "      <th></th>\n",
       "      <th></th>\n",
       "      <th></th>\n",
       "    </tr>\n",
       "  </thead>\n",
       "  <tbody>\n",
       "    <tr>\n",
       "      <th>Mandalay</th>\n",
       "      <td>110</td>\n",
       "      <td>108</td>\n",
       "      <td>113</td>\n",
       "    </tr>\n",
       "    <tr>\n",
       "      <th>Naypyitaw</th>\n",
       "      <td>124</td>\n",
       "      <td>98</td>\n",
       "      <td>106</td>\n",
       "    </tr>\n",
       "    <tr>\n",
       "      <th>Yangon</th>\n",
       "      <td>110</td>\n",
       "      <td>103</td>\n",
       "      <td>125</td>\n",
       "    </tr>\n",
       "  </tbody>\n",
       "</table>\n",
       "</div>"
      ],
      "text/plain": [
       "Payment    Cash  Credit card  Ewallet\n",
       "City                                 \n",
       "Mandalay    110          108      113\n",
       "Naypyitaw   124           98      106\n",
       "Yangon      110          103      125"
      ]
     },
     "execution_count": 50,
     "metadata": {},
     "output_type": "execute_result"
    }
   ],
   "source": [
    "pd.crosstab(df['City'],df['Payment'])\n"
   ]
  },
  {
   "cell_type": "markdown",
   "id": "c6267134-2825-4f55-b6dd-afe6a42b666f",
   "metadata": {},
   "source": [
    "## sns.heatmap(pd.crosstab(df['City'],df['Payment'])) will create a heatmap where each cell's color intensity represents the frequency of occurrences for each combination of city and payment method. It provides a quick visual overview of any patterns"
   ]
  },
  {
   "cell_type": "code",
   "execution_count": 51,
   "id": "c55f73f2-25e8-47b2-adc2-aa6746914b2f",
   "metadata": {
    "tags": []
   },
   "outputs": [
    {
     "data": {
      "text/plain": [
       "<Axes: xlabel='Payment', ylabel='City'>"
      ]
     },
     "execution_count": 51,
     "metadata": {},
     "output_type": "execute_result"
    },
    {
     "data": {
      "image/png": "[encoded data removed]",
      "text/plain": [
       "<Figure size 640x480 with 2 Axes>"
      ]
     },
     "metadata": {},
     "output_type": "display_data"
    }
   ],
   "source": [
    "sns.heatmap(pd.crosstab(df['City'],df['Payment']))"
   ]
  },
  {
   "cell_type": "markdown",
   "id": "d0b1d1b7-589b-46a7-b433-b66d668aa47f",
   "metadata": {},
   "source": [
    "# 8. Which Product Line Is Purchased In The Highest Quantity?"
   ]
  },
  {
   "cell_type": "markdown",
   "id": "4f40eef0-3e5a-401b-8418-288c1805f49d",
   "metadata": {},
   "source": [
    "## (df.groupby('Product line').sum()['Quantity']).plot(kind='bar') will generate a barchart showing the total quantity of products sold for each product line."
   ]
  },
  {
   "cell_type": "code",
   "execution_count": 52,
   "id": "1131687e-56c7-4cc6-a14b-39ad426c4fd2",
   "metadata": {
    "tags": []
   },
   "outputs": [
    {
     "name": "stderr",
     "output_type": "stream",
     "text": [
      "C:\\Users\\USER\\AppData\\Local\\Temp\\ipykernel_17988\\1903985707.py:1: FutureWarning: The default value of numeric_only in DataFrameGroupBy.sum is deprecated. In a future version, numeric_only will default to False. Either specify numeric_only or select only columns which should be valid for the function.\n",
      "  (df.groupby('Product line').sum()['Quantity']).plot(kind='bar')\n"
     ]
    },
    {
     "data": {
      "text/plain": [
       "<Axes: xlabel='Product line'>"
      ]
     },
     "execution_count": 52,
     "metadata": {},
     "output_type": "execute_result"
    },
    {
     "data": {
      "image/png": "[encoded data removed]",
      "text/plain": [
       "<Figure size 640x480 with 1 Axes>"
      ]
     },
     "metadata": {},
     "output_type": "display_data"
    }
   ],
   "source": [
    "(df.groupby('Product line').sum()['Quantity']).plot(kind='bar')"
   ]
  },
  {
   "cell_type": "markdown",
   "id": "a7a0b5f1-9326-4564-b998-70466c958112",
   "metadata": {},
   "source": [
    "##### In the bar chart above,there is a vivid representation of the product line showing the value count of each product,with the electronics\\naccessories the least product sold and fashion accessories with the highest product sold"
   ]
  },
  {
   "cell_type": "markdown",
   "id": "124ccac8-9785-4f28-a8b3-0e3f7675ea07",
   "metadata": {},
   "source": [
    "## In Conclusion from the beginning of this project to the end i was able to identify some problem which i rectified and also answered some questions relating to the project to my posible best."
   ]
  },
  {
   "cell_type": "code",
   "execution_count": null,
   "id": "719e88e7-b6dc-458d-b52b-bf157357eb34",
   "metadata": {},
   "outputs": [],
   "source": []
  }
 ],
 "metadata": {
  "kernelspec": {
   "display_name": "Python 3 (ipykernel)",
   "language": "python",
   "name": "python3"
  },
  "language_info": {
   "codemirror_mode": {
    "name": "ipython",
    "version": 3
   },
   "file_extension": ".py",
   "mimetype": "text/x-python",
   "name": "python",
   "nbconvert_exporter": "python",
   "pygments_lexer": "ipython3",
   "version": "3.11.4"
  }
 },
 "nbformat": 4,
 "nbformat_minor": 5
}
